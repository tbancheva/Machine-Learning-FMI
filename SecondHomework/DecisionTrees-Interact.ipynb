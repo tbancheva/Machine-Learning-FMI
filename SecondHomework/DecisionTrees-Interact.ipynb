{
 "cells": [
  {
   "cell_type": "code",
   "execution_count": 53,
   "metadata": {},
   "outputs": [],
   "source": [
    "import numpy as np\n",
    "\n",
    "from sklearn.datasets import make_classification, make_blobs\n",
    "from sklearn import tree\n",
    "from sklearn.tree import DecisionTreeClassifier\n",
    "from sklearn.ensemble import RandomForestClassifier\n",
    "\n",
    "from ipywidgets import interact\n",
    "\n",
    "import matplotlib.pyplot as plt\n",
    "%matplotlib inline"
   ]
  },
  {
   "cell_type": "code",
   "execution_count": 54,
   "metadata": {},
   "outputs": [],
   "source": [
    "# Масив с цветове, който използвам за обозначаване на екземплярите от различните класове\n",
    "# light-blue, purple, yellow, pink, dark blue\n",
    "\n",
    "colors = ['#1a75ff', '#9966ff', '#ffcc66', '#ff5050', '#264d73']"
   ]
  },
  {
   "cell_type": "code",
   "execution_count": 55,
   "metadata": {},
   "outputs": [],
   "source": [
    "# Първо идеята ми е да ползвам интеракт за да генерирам няколко datasets с двата метода make_classification и make_blobs,\n",
    "# визуализирайки каква се случва с данните като подавам различен брой екземпляри и съответно различен брой класове и\n",
    "# различен брой центрове на клъстърите\n",
    "\n",
    "# Функция, която генерира и чертае dataset с make_classification\n",
    "def plot_make_classification_data_set(samples_count, classes_count):\n",
    "    X, y = make_classification(n_samples= samples_count, \n",
    "                               n_features=2,\n",
    "                               n_redundant=0,\n",
    "                               n_classes= classes_count,\n",
    "                               n_clusters_per_class=1,\n",
    "                               random_state=123)\n",
    "    plt.figure(figsize=(10, 6))\n",
    "    for i in range(classes_count):\n",
    "        array = X[y == i]\n",
    "        plt.scatter(array[:, 0],  array[:, 1],  color= colors[i], alpha=0.9, s=60)"
   ]
  },
  {
   "cell_type": "code",
   "execution_count": 58,
   "metadata": {},
   "outputs": [
    {
     "data": {
      "application/vnd.jupyter.widget-view+json": {
       "model_id": "a745d2c584a1404a8cd551614f940b48",
       "version_major": 2,
       "version_minor": 0
      },
      "text/plain": [
       "interactive(children=(IntSlider(value=220, description='samples_count', max=400, min=50, step=10), IntSlider(v…"
      ]
     },
     "metadata": {},
     "output_type": "display_data"
    },
    {
     "data": {
      "text/plain": [
       "<function __main__.plot_make_classification_data_set(samples_count, classes_count)>"
      ]
     },
     "execution_count": 58,
     "metadata": {},
     "output_type": "execute_result"
    }
   ],
   "source": [
    "interact(plot_make_classification_data_set, samples_count=(50,400,10), classes_count= (1,4,1))                                     "
   ]
  },
  {
   "cell_type": "code",
   "execution_count": 61,
   "metadata": {},
   "outputs": [],
   "source": [
    "# Функция, която генерира и чертае dataset с make_blobs\n",
    "def plot_make_blobs_data_set(samples_count, centers_count, features_count):\n",
    "    X, y = make_blobs(n_samples= samples_count,\n",
    "                               n_features= features_count,\n",
    "                               centers= centers_count,\n",
    "                               random_state=42)\n",
    "    plt.figure(figsize=(10, 6))\n",
    "    for i in range(centers_count):\n",
    "        array = X[y == i]\n",
    "        plt.scatter(array[:, 0],  array[:, 1],  color= colors[i], alpha=0.9, s=60)"
   ]
  },
  {
   "cell_type": "code",
   "execution_count": 62,
   "metadata": {},
   "outputs": [
    {
     "data": {
      "application/vnd.jupyter.widget-view+json": {
       "model_id": "1555e1b031e8431c999e117bedbeb82f",
       "version_major": 2,
       "version_minor": 0
      },
      "text/plain": [
       "interactive(children=(IntSlider(value=220, description='samples_count', max=400, min=50, step=10), IntSlider(v…"
      ]
     },
     "metadata": {},
     "output_type": "display_data"
    },
    {
     "data": {
      "text/plain": [
       "<function __main__.plot_make_blobs_data_set(samples_count, centers_count, features_count)>"
      ]
     },
     "execution_count": 62,
     "metadata": {},
     "output_type": "execute_result"
    }
   ],
   "source": [
    "interact(plot_make_blobs_data_set, samples_count=(50,400,10), features_count= (2,10,1), centers_count= (1,4,1))    "
   ]
  },
  {
   "cell_type": "code",
   "execution_count": 63,
   "metadata": {},
   "outputs": [],
   "source": [
    "# След като сме експериментирали с различните параметри на функциите, генериращи datasets, можем да си направим dataset, \n",
    "# който ни се струва подходящ и върху който бихме искали да тренираме класификационно дърво.\n",
    "\n",
    "# Генериране на датасет\n",
    "x, y = make_classification(n_samples=100, \n",
    "                            n_features=2,\n",
    "                            hypercube=True,  \n",
    "                            n_classes=3, \n",
    "                            n_redundant=0,\n",
    "                            n_clusters_per_class=1,\n",
    "                            random_state=123)   "
   ]
  },
  {
   "cell_type": "code",
   "execution_count": 52,
   "metadata": {},
   "outputs": [],
   "source": [
    "#Функция, написана от един доктор на лекциите, която преизползвам за чертане \n",
    "def plot_boundary(clf, X, y):\n",
    "    x_min, x_max = X[:, 0].min() - 1, X[:, 0].max() + 1\n",
    "    y_min, y_max = X[:, 1].min() - 1, X[:, 1].max() + 1\n",
    "    xx, yy = np.meshgrid(np.arange(x_min, x_max, 0.1),\n",
    "                         np.arange(y_min, y_max, 0.1))\n",
    "\n",
    "    f, ax = plt.subplots(figsize=(10, 8))\n",
    "\n",
    "    Z = clf.predict(np.c_[xx.ravel(), yy.ravel()])\n",
    "    Z = Z.reshape(xx.shape)\n",
    "\n",
    "    ax.contourf(xx, yy, Z, alpha=0.4)\n",
    "    ax.scatter(X[:, 0], X[:, 1], c=y, s=20, edgecolor='k')\n",
    "    \n",
    "    plt.show()"
   ]
  },
  {
   "cell_type": "code",
   "execution_count": 5,
   "metadata": {},
   "outputs": [],
   "source": [
    "# Функция, която чертае DT класификатор\n",
    "def make_decision_tree_classifier(samples_split_count, depth, min_samples_leaf_count):\n",
    "    clf = DecisionTreeClassifier(min_samples_split= samples_split_count, \n",
    "                                 max_depth= depth,\n",
    "                                 min_samples_leaf= min_samples_leaf_count).fit(x, y)\n",
    "    return plot_boundary(clf, x, y)"
   ]
  },
  {
   "cell_type": "code",
   "execution_count": 6,
   "metadata": {},
   "outputs": [
    {
     "data": {
      "application/vnd.jupyter.widget-view+json": {
       "model_id": "3e4cba6f97bf48edbd6c836a6a7b13f5",
       "version_major": 2,
       "version_minor": 0
      },
      "text/plain": [
       "interactive(children=(IntSlider(value=25, description='samples_split_count', max=45, min=5, step=5), IntSlider…"
      ]
     },
     "metadata": {},
     "output_type": "display_data"
    },
    {
     "data": {
      "text/plain": [
       "<function __main__.make_decision_tree_classifier(samples_split_count, depth, min_samples_leaf_count)>"
      ]
     },
     "execution_count": 6,
     "metadata": {},
     "output_type": "execute_result"
    }
   ],
   "source": [
    "interact(make_decision_tree_classifier, samples_split_count=(5,45,5), \n",
    "                                        depth= (1,5,1),\n",
    "                                        min_samples_leaf_count=(1,50,5))"
   ]
  },
  {
   "cell_type": "code",
   "execution_count": 7,
   "metadata": {},
   "outputs": [],
   "source": [
    "# Функция, която чертае RF класификатор с определени брой и дълбочина на дърветата и мин. брой екземпляри за разделяне на възел\n",
    "def make_random_forest_classifier(tree_max_depth, trees_count, min_samples_split_count):\n",
    "    clf = RandomForestClassifier(random_state=23, \n",
    "                                 max_depth= tree_max_depth, \n",
    "                                 n_estimators= trees_count,\n",
    "                                 min_samples_split= min_samples_split_count).fit(x,y)\n",
    "    return plot_boundary(clf, x, y)"
   ]
  },
  {
   "cell_type": "code",
   "execution_count": 8,
   "metadata": {},
   "outputs": [
    {
     "data": {
      "application/vnd.jupyter.widget-view+json": {
       "model_id": "027d3215dd9b48a28359330e7204a270",
       "version_major": 2,
       "version_minor": 0
      },
      "text/plain": [
       "interactive(children=(IntSlider(value=9, description='tree_max_depth', max=20, min=1, step=2), IntSlider(value…"
      ]
     },
     "metadata": {},
     "output_type": "display_data"
    },
    {
     "data": {
      "text/plain": [
       "<function __main__.make_random_forest_classifier(tree_max_depth, trees_count, min_samples_split_count)>"
      ]
     },
     "execution_count": 8,
     "metadata": {},
     "output_type": "execute_result"
    }
   ],
   "source": [
    "interact(make_random_forest_classifier, tree_max_depth= (1,20,2), \n",
    "                                        trees_count=(2,20,2),\n",
    "                                        min_samples_split_count=(2,20,2))"
   ]
  }
 ],
 "metadata": {
  "kernelspec": {
   "display_name": "Python 3",
   "language": "python",
   "name": "python3"
  },
  "language_info": {
   "codemirror_mode": {
    "name": "ipython",
    "version": 3
   },
   "file_extension": ".py",
   "mimetype": "text/x-python",
   "name": "python",
   "nbconvert_exporter": "python",
   "pygments_lexer": "ipython3",
   "version": "3.6.6"
  }
 },
 "nbformat": 4,
 "nbformat_minor": 2
}
