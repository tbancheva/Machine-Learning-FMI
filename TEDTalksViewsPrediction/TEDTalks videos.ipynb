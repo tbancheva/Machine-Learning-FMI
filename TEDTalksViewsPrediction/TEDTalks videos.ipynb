{
 "cells": [
  {
   "cell_type": "markdown",
   "metadata": {},
   "source": [
    "# TED talks views prediction \n",
    "\n",
    "### Идея\n",
    "\n",
    "Първоначалната ми идея беше да направя модел, който предсказва брой гледания на youtube клипове, но още от пръв поглед върху kernel-ите на dataset-a за trending youtube videos, ставаше ясно, че почти всички видеа са музикални клипове и трейлъри на филми. Тоест доста специфична извадка от всички youtube клипове. За това прецених, че [този](https://www.kaggle.com/rounakbanik/ted-talks) dataset за **TED talks** е представителна извадка и би бил по-добър за основа на модел.\n",
    "\n",
    "Целта ми е да:\n",
    "* разгледам данните\n",
    "* да открия кои feature-и допринасят най-много за броя гледания на TED talks\n",
    "* да натренирам регресионен модел с възможно най-висок процент успеваемост в отговарянето на въпроса: **Колко гледания би имал евентуален TED talk?**\n"
   ]
  },
  {
   "cell_type": "markdown",
   "metadata": {},
   "source": [
    "Нека първо import-нем библиотеки, които ще ни трябват и заредим данните."
   ]
  },
  {
   "cell_type": "code",
   "execution_count": 1,
   "metadata": {},
   "outputs": [],
   "source": [
    "import numpy as np\n",
    "import matplotlib.pyplot as plt\n",
    "import pandas as pd\n",
    "import seaborn as sns\n",
    "import mglearn\n",
    "import sklearn\n",
    "\n",
    "from IPython.display import display\n",
    "\n",
    "%matplotlib inline"
   ]
  },
  {
   "cell_type": "code",
   "execution_count": 2,
   "metadata": {},
   "outputs": [],
   "source": [
    "data = pd.read_csv('data/ted-talks/ted_main.csv')"
   ]
  },
  {
   "cell_type": "code",
   "execution_count": 3,
   "metadata": {},
   "outputs": [
    {
     "data": {
      "text/plain": [
       "(2550, 17)"
      ]
     },
     "execution_count": 3,
     "metadata": {},
     "output_type": "execute_result"
    }
   ],
   "source": [
    "data.shape"
   ]
  },
  {
   "cell_type": "markdown",
   "metadata": {},
   "source": [
    "Окей, имаме *2550* talk-a и *17* feature-а. Нека ги разгледаме по-подробно и видим какво представлява всеки от тях."
   ]
  },
  {
   "cell_type": "code",
   "execution_count": 84,
   "metadata": {},
   "outputs": [
    {
     "data": {
      "text/plain": [
       "Index(['comments', 'description', 'duration', 'event', 'film_date',\n",
       "       'languages', 'main_speaker', 'name', 'num_speaker', 'published_date',\n",
       "       'ratings', 'related_talks', 'speaker_occupation', 'tags', 'title',\n",
       "       'url', 'views'],\n",
       "      dtype='object')"
      ]
     },
     "execution_count": 84,
     "metadata": {},
     "output_type": "execute_result"
    }
   ],
   "source": [
    "data.columns"
   ]
  },
  {
   "cell_type": "markdown",
   "metadata": {},
   "source": [
    "Според описанието в kaggle:\n",
    "\n",
    "* **comments** - The number of first level comments made on the talk\n",
    "* **description** - A blurb of what the talk is about\n",
    "* **duration** - The duration of the talk in seconds\n",
    "* **event** - The TED/TEDx event where the talk took place\n",
    "* **film_date** - The Unix timestamp of the filming\n",
    "* **languages** - The number of languages in which the talk is available\n",
    "* **main_speaker** - The first named speaker of the talk\n",
    "* **name** - The official name of the TED Talk. Includes the title and the speaker.\n",
    "* **num_speaker** - The number of speakers in the talk\n",
    "* **published_date** - The Unix timestamp for the publication of the talk on TED.com\n",
    "* **ratings** - A stringified dictionary of the various ratings given to the talk (inspiring, fascinating, jaw dropping, etc.)\n",
    "* **related_talks** - A list of dictionaries of recommended talks to watch next\n",
    "* **speaker_occupation** - The occupation of the main speaker\n",
    "* **tags** - The themes associated with the talk\n",
    "* **title** - The title of the talk\n",
    "* **url** - The URL of the talk\n",
    "* **views** - The number of views on the talk"
   ]
  },
  {
   "cell_type": "code",
   "execution_count": 4,
   "metadata": {},
   "outputs": [
    {
     "data": {
      "text/html": [
       "<div>\n",
       "<style scoped>\n",
       "    .dataframe tbody tr th:only-of-type {\n",
       "        vertical-align: middle;\n",
       "    }\n",
       "\n",
       "    .dataframe tbody tr th {\n",
       "        vertical-align: top;\n",
       "    }\n",
       "\n",
       "    .dataframe thead th {\n",
       "        text-align: right;\n",
       "    }\n",
       "</style>\n",
       "<table border=\"1\" class=\"dataframe\">\n",
       "  <thead>\n",
       "    <tr style=\"text-align: right;\">\n",
       "      <th></th>\n",
       "      <th>comments</th>\n",
       "      <th>description</th>\n",
       "      <th>duration</th>\n",
       "      <th>event</th>\n",
       "      <th>film_date</th>\n",
       "      <th>languages</th>\n",
       "      <th>main_speaker</th>\n",
       "      <th>name</th>\n",
       "      <th>num_speaker</th>\n",
       "      <th>published_date</th>\n",
       "      <th>ratings</th>\n",
       "      <th>related_talks</th>\n",
       "      <th>speaker_occupation</th>\n",
       "      <th>tags</th>\n",
       "      <th>title</th>\n",
       "      <th>url</th>\n",
       "      <th>views</th>\n",
       "    </tr>\n",
       "  </thead>\n",
       "  <tbody>\n",
       "    <tr>\n",
       "      <th>0</th>\n",
       "      <td>4553</td>\n",
       "      <td>Sir Ken Robinson makes an entertaining and pro...</td>\n",
       "      <td>1164</td>\n",
       "      <td>TED2006</td>\n",
       "      <td>1140825600</td>\n",
       "      <td>60</td>\n",
       "      <td>Ken Robinson</td>\n",
       "      <td>Ken Robinson: Do schools kill creativity?</td>\n",
       "      <td>1</td>\n",
       "      <td>1151367060</td>\n",
       "      <td>[{'id': 7, 'name': 'Funny', 'count': 19645}, {...</td>\n",
       "      <td>[{'id': 865, 'hero': 'https://pe.tedcdn.com/im...</td>\n",
       "      <td>Author/educator</td>\n",
       "      <td>['children', 'creativity', 'culture', 'dance',...</td>\n",
       "      <td>Do schools kill creativity?</td>\n",
       "      <td>https://www.ted.com/talks/ken_robinson_says_sc...</td>\n",
       "      <td>47227110</td>\n",
       "    </tr>\n",
       "    <tr>\n",
       "      <th>1</th>\n",
       "      <td>265</td>\n",
       "      <td>With the same humor and humanity he exuded in ...</td>\n",
       "      <td>977</td>\n",
       "      <td>TED2006</td>\n",
       "      <td>1140825600</td>\n",
       "      <td>43</td>\n",
       "      <td>Al Gore</td>\n",
       "      <td>Al Gore: Averting the climate crisis</td>\n",
       "      <td>1</td>\n",
       "      <td>1151367060</td>\n",
       "      <td>[{'id': 7, 'name': 'Funny', 'count': 544}, {'i...</td>\n",
       "      <td>[{'id': 243, 'hero': 'https://pe.tedcdn.com/im...</td>\n",
       "      <td>Climate advocate</td>\n",
       "      <td>['alternative energy', 'cars', 'climate change...</td>\n",
       "      <td>Averting the climate crisis</td>\n",
       "      <td>https://www.ted.com/talks/al_gore_on_averting_...</td>\n",
       "      <td>3200520</td>\n",
       "    </tr>\n",
       "    <tr>\n",
       "      <th>2</th>\n",
       "      <td>124</td>\n",
       "      <td>New York Times columnist David Pogue takes aim...</td>\n",
       "      <td>1286</td>\n",
       "      <td>TED2006</td>\n",
       "      <td>1140739200</td>\n",
       "      <td>26</td>\n",
       "      <td>David Pogue</td>\n",
       "      <td>David Pogue: Simplicity sells</td>\n",
       "      <td>1</td>\n",
       "      <td>1151367060</td>\n",
       "      <td>[{'id': 7, 'name': 'Funny', 'count': 964}, {'i...</td>\n",
       "      <td>[{'id': 1725, 'hero': 'https://pe.tedcdn.com/i...</td>\n",
       "      <td>Technology columnist</td>\n",
       "      <td>['computers', 'entertainment', 'interface desi...</td>\n",
       "      <td>Simplicity sells</td>\n",
       "      <td>https://www.ted.com/talks/david_pogue_says_sim...</td>\n",
       "      <td>1636292</td>\n",
       "    </tr>\n",
       "    <tr>\n",
       "      <th>3</th>\n",
       "      <td>200</td>\n",
       "      <td>In an emotionally charged talk, MacArthur-winn...</td>\n",
       "      <td>1116</td>\n",
       "      <td>TED2006</td>\n",
       "      <td>1140912000</td>\n",
       "      <td>35</td>\n",
       "      <td>Majora Carter</td>\n",
       "      <td>Majora Carter: Greening the ghetto</td>\n",
       "      <td>1</td>\n",
       "      <td>1151367060</td>\n",
       "      <td>[{'id': 3, 'name': 'Courageous', 'count': 760}...</td>\n",
       "      <td>[{'id': 1041, 'hero': 'https://pe.tedcdn.com/i...</td>\n",
       "      <td>Activist for environmental justice</td>\n",
       "      <td>['MacArthur grant', 'activism', 'business', 'c...</td>\n",
       "      <td>Greening the ghetto</td>\n",
       "      <td>https://www.ted.com/talks/majora_carter_s_tale...</td>\n",
       "      <td>1697550</td>\n",
       "    </tr>\n",
       "    <tr>\n",
       "      <th>4</th>\n",
       "      <td>593</td>\n",
       "      <td>You've never seen data presented like this. Wi...</td>\n",
       "      <td>1190</td>\n",
       "      <td>TED2006</td>\n",
       "      <td>1140566400</td>\n",
       "      <td>48</td>\n",
       "      <td>Hans Rosling</td>\n",
       "      <td>Hans Rosling: The best stats you've ever seen</td>\n",
       "      <td>1</td>\n",
       "      <td>1151440680</td>\n",
       "      <td>[{'id': 9, 'name': 'Ingenious', 'count': 3202}...</td>\n",
       "      <td>[{'id': 2056, 'hero': 'https://pe.tedcdn.com/i...</td>\n",
       "      <td>Global health expert; data visionary</td>\n",
       "      <td>['Africa', 'Asia', 'Google', 'demo', 'economic...</td>\n",
       "      <td>The best stats you've ever seen</td>\n",
       "      <td>https://www.ted.com/talks/hans_rosling_shows_t...</td>\n",
       "      <td>12005869</td>\n",
       "    </tr>\n",
       "  </tbody>\n",
       "</table>\n",
       "</div>"
      ],
      "text/plain": [
       "   comments                                        description  duration  \\\n",
       "0      4553  Sir Ken Robinson makes an entertaining and pro...      1164   \n",
       "1       265  With the same humor and humanity he exuded in ...       977   \n",
       "2       124  New York Times columnist David Pogue takes aim...      1286   \n",
       "3       200  In an emotionally charged talk, MacArthur-winn...      1116   \n",
       "4       593  You've never seen data presented like this. Wi...      1190   \n",
       "\n",
       "     event   film_date  languages   main_speaker  \\\n",
       "0  TED2006  1140825600         60   Ken Robinson   \n",
       "1  TED2006  1140825600         43        Al Gore   \n",
       "2  TED2006  1140739200         26    David Pogue   \n",
       "3  TED2006  1140912000         35  Majora Carter   \n",
       "4  TED2006  1140566400         48   Hans Rosling   \n",
       "\n",
       "                                            name  num_speaker  published_date  \\\n",
       "0      Ken Robinson: Do schools kill creativity?            1      1151367060   \n",
       "1           Al Gore: Averting the climate crisis            1      1151367060   \n",
       "2                  David Pogue: Simplicity sells            1      1151367060   \n",
       "3             Majora Carter: Greening the ghetto            1      1151367060   \n",
       "4  Hans Rosling: The best stats you've ever seen            1      1151440680   \n",
       "\n",
       "                                             ratings  \\\n",
       "0  [{'id': 7, 'name': 'Funny', 'count': 19645}, {...   \n",
       "1  [{'id': 7, 'name': 'Funny', 'count': 544}, {'i...   \n",
       "2  [{'id': 7, 'name': 'Funny', 'count': 964}, {'i...   \n",
       "3  [{'id': 3, 'name': 'Courageous', 'count': 760}...   \n",
       "4  [{'id': 9, 'name': 'Ingenious', 'count': 3202}...   \n",
       "\n",
       "                                       related_talks  \\\n",
       "0  [{'id': 865, 'hero': 'https://pe.tedcdn.com/im...   \n",
       "1  [{'id': 243, 'hero': 'https://pe.tedcdn.com/im...   \n",
       "2  [{'id': 1725, 'hero': 'https://pe.tedcdn.com/i...   \n",
       "3  [{'id': 1041, 'hero': 'https://pe.tedcdn.com/i...   \n",
       "4  [{'id': 2056, 'hero': 'https://pe.tedcdn.com/i...   \n",
       "\n",
       "                     speaker_occupation  \\\n",
       "0                       Author/educator   \n",
       "1                      Climate advocate   \n",
       "2                  Technology columnist   \n",
       "3    Activist for environmental justice   \n",
       "4  Global health expert; data visionary   \n",
       "\n",
       "                                                tags  \\\n",
       "0  ['children', 'creativity', 'culture', 'dance',...   \n",
       "1  ['alternative energy', 'cars', 'climate change...   \n",
       "2  ['computers', 'entertainment', 'interface desi...   \n",
       "3  ['MacArthur grant', 'activism', 'business', 'c...   \n",
       "4  ['Africa', 'Asia', 'Google', 'demo', 'economic...   \n",
       "\n",
       "                             title  \\\n",
       "0      Do schools kill creativity?   \n",
       "1      Averting the climate crisis   \n",
       "2                 Simplicity sells   \n",
       "3              Greening the ghetto   \n",
       "4  The best stats you've ever seen   \n",
       "\n",
       "                                                 url     views  \n",
       "0  https://www.ted.com/talks/ken_robinson_says_sc...  47227110  \n",
       "1  https://www.ted.com/talks/al_gore_on_averting_...   3200520  \n",
       "2  https://www.ted.com/talks/david_pogue_says_sim...   1636292  \n",
       "3  https://www.ted.com/talks/majora_carter_s_tale...   1697550  \n",
       "4  https://www.ted.com/talks/hans_rosling_shows_t...  12005869  "
      ]
     },
     "execution_count": 4,
     "metadata": {},
     "output_type": "execute_result"
    }
   ],
   "source": [
    "data.head()"
   ]
  },
  {
   "cell_type": "markdown",
   "metadata": {},
   "source": [
    "За начало можем да видим кои са talk-овете с **най-много гледания**."
   ]
  },
  {
   "cell_type": "code",
   "execution_count": 5,
   "metadata": {},
   "outputs": [
    {
     "data": {
      "text/html": [
       "<div>\n",
       "<style scoped>\n",
       "    .dataframe tbody tr th:only-of-type {\n",
       "        vertical-align: middle;\n",
       "    }\n",
       "\n",
       "    .dataframe tbody tr th {\n",
       "        vertical-align: top;\n",
       "    }\n",
       "\n",
       "    .dataframe thead th {\n",
       "        text-align: right;\n",
       "    }\n",
       "</style>\n",
       "<table border=\"1\" class=\"dataframe\">\n",
       "  <thead>\n",
       "    <tr style=\"text-align: right;\">\n",
       "      <th></th>\n",
       "      <th>title</th>\n",
       "      <th>main_speaker</th>\n",
       "      <th>views</th>\n",
       "      <th>comments</th>\n",
       "    </tr>\n",
       "  </thead>\n",
       "  <tbody>\n",
       "    <tr>\n",
       "      <th>0</th>\n",
       "      <td>Do schools kill creativity?</td>\n",
       "      <td>Ken Robinson</td>\n",
       "      <td>47227110</td>\n",
       "      <td>4553</td>\n",
       "    </tr>\n",
       "    <tr>\n",
       "      <th>1346</th>\n",
       "      <td>Your body language may shape who you are</td>\n",
       "      <td>Amy Cuddy</td>\n",
       "      <td>43155405</td>\n",
       "      <td>2290</td>\n",
       "    </tr>\n",
       "    <tr>\n",
       "      <th>677</th>\n",
       "      <td>How great leaders inspire action</td>\n",
       "      <td>Simon Sinek</td>\n",
       "      <td>34309432</td>\n",
       "      <td>1930</td>\n",
       "    </tr>\n",
       "    <tr>\n",
       "      <th>837</th>\n",
       "      <td>The power of vulnerability</td>\n",
       "      <td>Brené Brown</td>\n",
       "      <td>31168150</td>\n",
       "      <td>1927</td>\n",
       "    </tr>\n",
       "    <tr>\n",
       "      <th>452</th>\n",
       "      <td>10 things you didn't know about orgasm</td>\n",
       "      <td>Mary Roach</td>\n",
       "      <td>22270883</td>\n",
       "      <td>354</td>\n",
       "    </tr>\n",
       "    <tr>\n",
       "      <th>1776</th>\n",
       "      <td>How to speak so that people want to listen</td>\n",
       "      <td>Julian Treasure</td>\n",
       "      <td>21594632</td>\n",
       "      <td>297</td>\n",
       "    </tr>\n",
       "    <tr>\n",
       "      <th>201</th>\n",
       "      <td>My stroke of insight</td>\n",
       "      <td>Jill Bolte Taylor</td>\n",
       "      <td>21190883</td>\n",
       "      <td>2877</td>\n",
       "    </tr>\n",
       "    <tr>\n",
       "      <th>5</th>\n",
       "      <td>Why we do what we do</td>\n",
       "      <td>Tony Robbins</td>\n",
       "      <td>20685401</td>\n",
       "      <td>672</td>\n",
       "    </tr>\n",
       "    <tr>\n",
       "      <th>2114</th>\n",
       "      <td>This is what happens when you reply to spam email</td>\n",
       "      <td>James Veitch</td>\n",
       "      <td>20475972</td>\n",
       "      <td>150</td>\n",
       "    </tr>\n",
       "    <tr>\n",
       "      <th>1416</th>\n",
       "      <td>Looks aren't everything. Believe me, I'm a model.</td>\n",
       "      <td>Cameron Russell</td>\n",
       "      <td>19787465</td>\n",
       "      <td>846</td>\n",
       "    </tr>\n",
       "  </tbody>\n",
       "</table>\n",
       "</div>"
      ],
      "text/plain": [
       "                                                  title       main_speaker  \\\n",
       "0                           Do schools kill creativity?       Ken Robinson   \n",
       "1346           Your body language may shape who you are          Amy Cuddy   \n",
       "677                    How great leaders inspire action        Simon Sinek   \n",
       "837                          The power of vulnerability        Brené Brown   \n",
       "452              10 things you didn't know about orgasm         Mary Roach   \n",
       "1776         How to speak so that people want to listen    Julian Treasure   \n",
       "201                                My stroke of insight  Jill Bolte Taylor   \n",
       "5                                  Why we do what we do       Tony Robbins   \n",
       "2114  This is what happens when you reply to spam email       James Veitch   \n",
       "1416  Looks aren't everything. Believe me, I'm a model.    Cameron Russell   \n",
       "\n",
       "         views  comments  \n",
       "0     47227110      4553  \n",
       "1346  43155405      2290  \n",
       "677   34309432      1930  \n",
       "837   31168150      1927  \n",
       "452   22270883       354  \n",
       "1776  21594632       297  \n",
       "201   21190883      2877  \n",
       "5     20685401       672  \n",
       "2114  20475972       150  \n",
       "1416  19787465       846  "
      ]
     },
     "execution_count": 5,
     "metadata": {},
     "output_type": "execute_result"
    }
   ],
   "source": [
    "most_viewd_talks = data[['title', 'main_speaker', 'views', 'comments']].sort_values('views', ascending=False)[:10]\n",
    "most_viewd_talks"
   ]
  },
  {
   "cell_type": "markdown",
   "metadata": {},
   "source": [
    "* Виждаме, че най-популярият talk е **Do Schools Kill Creativity?** на *Ken Robinson* с цели 47 милиона гледания, което е над 2 пъти повече от например 5тия по ред. \n",
    "* Само 2 talk-a надвишават 40 милиона и съответно само 2 са между 30 и 40 милиона. \n",
    "* Също така можем да забележим, че въпреки че **Your body language may shape who you are** на *Amy Cuddy* също има над 40 милиона гледания, има 2 пъти по-малко коментари от Do Schools Kill Creativity?. \n",
    "* 6-тия talk по гледания **How to speak so that people want to listen** иронично има едва близо 300 коментара (очевидно хората са слушали толкова, че не са коментирали), което е над 100 пъти по-малко от другите talk-ове около него.\n",
    "\n",
    "Можем да направим 2 извода - има доста малко на брой клипове с много висок брой гледания и броят гледания не винаги отговаря на количеството коментари. Нека видим как можем да приложим тези наблюдения върху dataset-a ни."
   ]
  },
  {
   "cell_type": "markdown",
   "metadata": {},
   "source": [
    "### Брой гледания\n",
    "\n",
    "Можем да определим колоната **views** за label на нашия модел. Това е непрекъсната стойност, тоест с регресия ще се опитаме да предвидим нейната стойност. Нека видим какво разпределение имат данните."
   ]
  },
  {
   "cell_type": "code",
   "execution_count": 86,
   "metadata": {},
   "outputs": [
    {
     "data": {
      "image/png": "[encoded data removed]",
      "text/plain": [
       "<Figure size 432x288 with 1 Axes>"
      ]
     },
     "metadata": {
      "needs_background": "light"
     },
     "output_type": "display_data"
    }
   ],
   "source": [
    "sns.distplot(data.views);"
   ]
  },
  {
   "cell_type": "markdown",
   "metadata": {},
   "source": [
    "Както разбрахме вече, има малко на брой клипове с много гледания. Графиката също показва, че данните ни са далеч от нормалното разпределение. Нека все пак разгледаме рейнджа на гледанията."
   ]
  },
  {
   "cell_type": "code",
   "execution_count": 115,
   "metadata": {},
   "outputs": [
    {
     "data": {
      "text/plain": [
       "50443"
      ]
     },
     "execution_count": 115,
     "metadata": {},
     "output_type": "execute_result"
    }
   ],
   "source": [
    "data['views'].min()"
   ]
  },
  {
   "cell_type": "code",
   "execution_count": 116,
   "metadata": {},
   "outputs": [
    {
     "data": {
      "text/plain": [
       "47227110"
      ]
     },
     "execution_count": 116,
     "metadata": {},
     "output_type": "execute_result"
    }
   ],
   "source": [
    "data['views'].max()"
   ]
  },
  {
   "cell_type": "markdown",
   "metadata": {},
   "source": [
    "Клипът с най-малко гледания има *50 443*, а този с най-много *47 227 110*. Нека видим колко броя клипове имат гледания в рейнджове от 0 до 50 000 000 през 50 000."
   ]
  },
  {
   "cell_type": "code",
   "execution_count": 114,
   "metadata": {},
   "outputs": [
    {
     "data": {
      "text/plain": [
       "views\n",
       "(0, 500000]             277\n",
       "(500000, 1000000]       768\n",
       "(1000000, 1500000]      698\n",
       "(1500000, 2000000]      303\n",
       "(2000000, 2500000]      156\n",
       "(2500000, 3000000]       82\n",
       "(3000000, 3500000]       55\n",
       "(3500000, 4000000]       38\n",
       "(4000000, 4500000]       34\n",
       "(4500000, 5000000]       34\n",
       "(5000000, 5500000]        9\n",
       "(5500000, 6000000]        7\n",
       "(6000000, 6500000]       10\n",
       "(6500000, 7000000]        6\n",
       "(7000000, 7500000]        9\n",
       "(7500000, 8000000]        5\n",
       "(8000000, 8500000]        6\n",
       "(8500000, 9000000]        6\n",
       "(9000000, 9500000]        5\n",
       "(9500000, 10000000]       2\n",
       "(10000000, 10500000]      3\n",
       "(10500000, 11000000]      3\n",
       "(11000000, 11500000]      1\n",
       "(11500000, 12000000]      0\n",
       "(12000000, 12500000]      2\n",
       "(12500000, 13000000]      0\n",
       "(13000000, 13500000]      3\n",
       "(13500000, 14000000]      1\n",
       "(14000000, 14500000]      0\n",
       "(14500000, 15000000]      3\n",
       "                       ... \n",
       "(34500000, 35000000]      0\n",
       "(35000000, 35500000]      0\n",
       "(35500000, 36000000]      0\n",
       "(36000000, 36500000]      0\n",
       "(36500000, 37000000]      0\n",
       "(37000000, 37500000]      0\n",
       "(37500000, 38000000]      0\n",
       "(38000000, 38500000]      0\n",
       "(38500000, 39000000]      0\n",
       "(39000000, 39500000]      0\n",
       "(39500000, 40000000]      0\n",
       "(40000000, 40500000]      0\n",
       "(40500000, 41000000]      0\n",
       "(41000000, 41500000]      0\n",
       "(41500000, 42000000]      0\n",
       "(42000000, 42500000]      0\n",
       "(42500000, 43000000]      0\n",
       "(43000000, 43500000]      1\n",
       "(43500000, 44000000]      0\n",
       "(44000000, 44500000]      0\n",
       "(44500000, 45000000]      0\n",
       "(45000000, 45500000]      0\n",
       "(45500000, 46000000]      0\n",
       "(46000000, 46500000]      0\n",
       "(46500000, 47000000]      0\n",
       "(47000000, 47500000]      1\n",
       "(47500000, 48000000]      0\n",
       "(48000000, 48500000]      0\n",
       "(48500000, 49000000]      0\n",
       "(49000000, 49500000]      0\n",
       "Name: views, Length: 99, dtype: int64"
      ]
     },
     "execution_count": 114,
     "metadata": {},
     "output_type": "execute_result"
    }
   ],
   "source": [
    "data['views'].groupby(pd.cut(data['views'], np.arange(0, 50000000, 500000))).count()"
   ]
  },
  {
   "cell_type": "markdown",
   "metadata": {},
   "source": [
    "Прецених, че тъй като имаме само няколко клипове с над 5 милиона гледания, бих могла да ги считам за outlier-и и да ги премахна от dataset-a. "
   ]
  },
  {
   "cell_type": "code",
   "execution_count": 89,
   "metadata": {},
   "outputs": [],
   "source": [
    "#data = data[data.views < 5000000]"
   ]
  },
  {
   "cell_type": "markdown",
   "metadata": {},
   "source": [
    "Това обаче резултира в намаляване на score-a на baseline модела по-надолу в notebook-a.\n",
    "\n",
    "Може би клиповете с много милиони гледания, *макар и много малко на брой, носят ценна информация* за модела и за това реших, че не трябва да ги махам, а да пробвам друг подход за нормализиране на данните. Като например да ги прекарам през логаритъм."
   ]
  },
  {
   "cell_type": "code",
   "execution_count": 87,
   "metadata": {},
   "outputs": [
    {
     "data": {
      "image/png": "[encoded data removed]",
      "text/plain": [
       "<Figure size 432x288 with 1 Axes>"
      ]
     },
     "metadata": {
      "needs_background": "light"
     },
     "output_type": "display_data"
    }
   ],
   "source": [
    "sns.distplot(pd.np.log10(data.views));"
   ]
  },
  {
   "cell_type": "markdown",
   "metadata": {},
   "source": [
    "Така дистрибуцията е значително по-стандартна. "
   ]
  },
  {
   "cell_type": "markdown",
   "metadata": {},
   "source": [
    "## Брой коментари\n",
    "\n",
    "Въпреки че е логично клиповете с най-много гледания да имат най-много коментари, както и обратното, видяхме че не винаги е така. Нека видим връзката между 2те колони."
   ]
  },
  {
   "cell_type": "code",
   "execution_count": 162,
   "metadata": {},
   "outputs": [
    {
     "data": {
      "image/png": "[encoded data removed]",
      "text/plain": [
       "<Figure size 432x432 with 3 Axes>"
      ]
     },
     "metadata": {
      "needs_background": "light"
     },
     "output_type": "display_data"
    }
   ],
   "source": [
    "sns.jointplot(x='views', y='comments', data=data);"
   ]
  },
  {
   "cell_type": "code",
   "execution_count": 163,
   "metadata": {},
   "outputs": [
    {
     "data": {
      "text/html": [
       "<div>\n",
       "<style scoped>\n",
       "    .dataframe tbody tr th:only-of-type {\n",
       "        vertical-align: middle;\n",
       "    }\n",
       "\n",
       "    .dataframe tbody tr th {\n",
       "        vertical-align: top;\n",
       "    }\n",
       "\n",
       "    .dataframe thead th {\n",
       "        text-align: right;\n",
       "    }\n",
       "</style>\n",
       "<table border=\"1\" class=\"dataframe\">\n",
       "  <thead>\n",
       "    <tr style=\"text-align: right;\">\n",
       "      <th></th>\n",
       "      <th>views</th>\n",
       "      <th>comments</th>\n",
       "    </tr>\n",
       "  </thead>\n",
       "  <tbody>\n",
       "    <tr>\n",
       "      <th>views</th>\n",
       "      <td>1.000000</td>\n",
       "      <td>0.530897</td>\n",
       "    </tr>\n",
       "    <tr>\n",
       "      <th>comments</th>\n",
       "      <td>0.530897</td>\n",
       "      <td>1.000000</td>\n",
       "    </tr>\n",
       "  </tbody>\n",
       "</table>\n",
       "</div>"
      ],
      "text/plain": [
       "             views  comments\n",
       "views     1.000000  0.530897\n",
       "comments  0.530897  1.000000"
      ]
     },
     "execution_count": 163,
     "metadata": {},
     "output_type": "execute_result"
    }
   ],
   "source": [
    "data[['views', 'comments']].corr()"
   ]
  },
  {
   "cell_type": "markdown",
   "metadata": {},
   "source": [
    "Очевидно гледанията и коментарите имат корелация, но какво още можем да извлечем от тази колона? Можем да видим до колко клиповете са станали обект на *дискусия*. Ще направим нова колона, която ще съдържа **съотношението между броя коментари и гледания** - discussion_rate."
   ]
  },
  {
   "cell_type": "code",
   "execution_count": 6,
   "metadata": {},
   "outputs": [],
   "source": [
    "data['discussion_rate'] = data['comments']/data['views']"
   ]
  },
  {
   "cell_type": "markdown",
   "metadata": {},
   "source": [
    "Нека видим кои talk-ове са **най-дискутирани**."
   ]
  },
  {
   "cell_type": "code",
   "execution_count": 7,
   "metadata": {},
   "outputs": [
    {
     "data": {
      "text/html": [
       "<div>\n",
       "<style scoped>\n",
       "    .dataframe tbody tr th:only-of-type {\n",
       "        vertical-align: middle;\n",
       "    }\n",
       "\n",
       "    .dataframe tbody tr th {\n",
       "        vertical-align: top;\n",
       "    }\n",
       "\n",
       "    .dataframe thead th {\n",
       "        text-align: right;\n",
       "    }\n",
       "</style>\n",
       "<table border=\"1\" class=\"dataframe\">\n",
       "  <thead>\n",
       "    <tr style=\"text-align: right;\">\n",
       "      <th></th>\n",
       "      <th>title</th>\n",
       "      <th>main_speaker</th>\n",
       "      <th>views</th>\n",
       "      <th>comments</th>\n",
       "      <th>discussion_rate</th>\n",
       "    </tr>\n",
       "  </thead>\n",
       "  <tbody>\n",
       "    <tr>\n",
       "      <th>744</th>\n",
       "      <td>The case for same-sex marriage</td>\n",
       "      <td>Diane J. Savino</td>\n",
       "      <td>292395</td>\n",
       "      <td>649</td>\n",
       "      <td>0.002220</td>\n",
       "    </tr>\n",
       "    <tr>\n",
       "      <th>803</th>\n",
       "      <td>E-voting without fraud</td>\n",
       "      <td>David Bismark</td>\n",
       "      <td>543551</td>\n",
       "      <td>834</td>\n",
       "      <td>0.001534</td>\n",
       "    </tr>\n",
       "    <tr>\n",
       "      <th>96</th>\n",
       "      <td>Militant atheism</td>\n",
       "      <td>Richard Dawkins</td>\n",
       "      <td>4374792</td>\n",
       "      <td>6404</td>\n",
       "      <td>0.001464</td>\n",
       "    </tr>\n",
       "    <tr>\n",
       "      <th>694</th>\n",
       "      <td>Inside a school for suicide bombers</td>\n",
       "      <td>Sharmeen Obaid-Chinoy</td>\n",
       "      <td>1057238</td>\n",
       "      <td>1502</td>\n",
       "      <td>0.001421</td>\n",
       "    </tr>\n",
       "    <tr>\n",
       "      <th>954</th>\n",
       "      <td>Taking imagination seriously</td>\n",
       "      <td>Janet Echelman</td>\n",
       "      <td>1832930</td>\n",
       "      <td>2492</td>\n",
       "      <td>0.001360</td>\n",
       "    </tr>\n",
       "    <tr>\n",
       "      <th>840</th>\n",
       "      <td>On reading the Koran</td>\n",
       "      <td>Lesley Hazleton</td>\n",
       "      <td>1847256</td>\n",
       "      <td>2374</td>\n",
       "      <td>0.001285</td>\n",
       "    </tr>\n",
       "    <tr>\n",
       "      <th>876</th>\n",
       "      <td>Curating humanity's heritage</td>\n",
       "      <td>Elizabeth Lindsey</td>\n",
       "      <td>439180</td>\n",
       "      <td>555</td>\n",
       "      <td>0.001264</td>\n",
       "    </tr>\n",
       "    <tr>\n",
       "      <th>1787</th>\n",
       "      <td>How do you explain consciousness?</td>\n",
       "      <td>David Chalmers</td>\n",
       "      <td>2162764</td>\n",
       "      <td>2673</td>\n",
       "      <td>0.001236</td>\n",
       "    </tr>\n",
       "    <tr>\n",
       "      <th>661</th>\n",
       "      <td>The danger of science denial</td>\n",
       "      <td>Michael Specter</td>\n",
       "      <td>1838628</td>\n",
       "      <td>2272</td>\n",
       "      <td>0.001236</td>\n",
       "    </tr>\n",
       "    <tr>\n",
       "      <th>561</th>\n",
       "      <td>Dance to change the world</td>\n",
       "      <td>Mallika Sarabhai</td>\n",
       "      <td>481834</td>\n",
       "      <td>595</td>\n",
       "      <td>0.001235</td>\n",
       "    </tr>\n",
       "  </tbody>\n",
       "</table>\n",
       "</div>"
      ],
      "text/plain": [
       "                                    title           main_speaker    views  \\\n",
       "744        The case for same-sex marriage        Diane J. Savino   292395   \n",
       "803                E-voting without fraud          David Bismark   543551   \n",
       "96                       Militant atheism        Richard Dawkins  4374792   \n",
       "694   Inside a school for suicide bombers  Sharmeen Obaid-Chinoy  1057238   \n",
       "954          Taking imagination seriously         Janet Echelman  1832930   \n",
       "840                  On reading the Koran        Lesley Hazleton  1847256   \n",
       "876          Curating humanity's heritage      Elizabeth Lindsey   439180   \n",
       "1787    How do you explain consciousness?         David Chalmers  2162764   \n",
       "661          The danger of science denial        Michael Specter  1838628   \n",
       "561             Dance to change the world       Mallika Sarabhai   481834   \n",
       "\n",
       "      comments  discussion_rate  \n",
       "744        649         0.002220  \n",
       "803        834         0.001534  \n",
       "96        6404         0.001464  \n",
       "694       1502         0.001421  \n",
       "954       2492         0.001360  \n",
       "840       2374         0.001285  \n",
       "876        555         0.001264  \n",
       "1787      2673         0.001236  \n",
       "661       2272         0.001236  \n",
       "561        595         0.001235  "
      ]
     },
     "execution_count": 7,
     "metadata": {},
     "output_type": "execute_result"
    }
   ],
   "source": [
    "most_discussed_talks = data[['title', 'main_speaker', 'views','comments', 'discussion_rate']].sort_values('discussion_rate', ascending=False)[:10]\n",
    "most_discussed_talks"
   ]
  },
  {
   "cell_type": "markdown",
   "metadata": {},
   "source": [
    "Неизненадващо най-обсъжданата тема е **The case for same-sex marriage**, като заедно с *Militant atheism*, *On reading the Koran* и *The danger of science denial* предполагам засягат религиозна нотка и съответно създават предпоставки за дебати."
   ]
  },
  {
   "cell_type": "markdown",
   "metadata": {},
   "source": [
    "## Дати\n",
    "\n",
    "Друго наблюдение е че в dataset-a има 2 колони, които представляват дати - **film_date** и **published_date**. Може да ги конвертираме от UNIX формат до нещо по-разбирамо и human readable."
   ]
  },
  {
   "cell_type": "code",
   "execution_count": 8,
   "metadata": {
    "scrolled": true
   },
   "outputs": [
    {
     "data": {
      "text/html": [
       "<div>\n",
       "<style scoped>\n",
       "    .dataframe tbody tr th:only-of-type {\n",
       "        vertical-align: middle;\n",
       "    }\n",
       "\n",
       "    .dataframe tbody tr th {\n",
       "        vertical-align: top;\n",
       "    }\n",
       "\n",
       "    .dataframe thead th {\n",
       "        text-align: right;\n",
       "    }\n",
       "</style>\n",
       "<table border=\"1\" class=\"dataframe\">\n",
       "  <thead>\n",
       "    <tr style=\"text-align: right;\">\n",
       "      <th></th>\n",
       "      <th>film_date</th>\n",
       "      <th>published_date</th>\n",
       "    </tr>\n",
       "  </thead>\n",
       "  <tbody>\n",
       "    <tr>\n",
       "      <th>0</th>\n",
       "      <td>25-02-2006</td>\n",
       "      <td>27-06-2006</td>\n",
       "    </tr>\n",
       "    <tr>\n",
       "      <th>1</th>\n",
       "      <td>25-02-2006</td>\n",
       "      <td>27-06-2006</td>\n",
       "    </tr>\n",
       "    <tr>\n",
       "      <th>2</th>\n",
       "      <td>24-02-2006</td>\n",
       "      <td>27-06-2006</td>\n",
       "    </tr>\n",
       "    <tr>\n",
       "      <th>3</th>\n",
       "      <td>26-02-2006</td>\n",
       "      <td>27-06-2006</td>\n",
       "    </tr>\n",
       "    <tr>\n",
       "      <th>4</th>\n",
       "      <td>22-02-2006</td>\n",
       "      <td>27-06-2006</td>\n",
       "    </tr>\n",
       "  </tbody>\n",
       "</table>\n",
       "</div>"
      ],
      "text/plain": [
       "    film_date published_date\n",
       "0  25-02-2006     27-06-2006\n",
       "1  25-02-2006     27-06-2006\n",
       "2  24-02-2006     27-06-2006\n",
       "3  26-02-2006     27-06-2006\n",
       "4  22-02-2006     27-06-2006"
      ]
     },
     "execution_count": 8,
     "metadata": {},
     "output_type": "execute_result"
    }
   ],
   "source": [
    "import datetime\n",
    "\n",
    "data['film_date'] = data['film_date'].apply(lambda x: datetime.datetime.fromtimestamp( int(x)).strftime('%d-%m-%Y'))\n",
    "data['published_date'] = data['published_date'].apply(lambda x: datetime.datetime.fromtimestamp( int(x)).strftime('%d-%m-%Y'))\n",
    "\n",
    "data[['film_date','published_date']].head()"
   ]
  },
  {
   "cell_type": "markdown",
   "metadata": {},
   "source": [
    "За мен има логика по-отдавна качените клипове да имат повече гледания. За това нека преобразуваме string колоните в няколко числови такива - *film_year*, *film_month*, *film_day* и *published_year*, *published_month*, *published_day*."
   ]
  },
  {
   "cell_type": "code",
   "execution_count": 9,
   "metadata": {},
   "outputs": [
    {
     "data": {
      "text/html": [
       "<div>\n",
       "<style scoped>\n",
       "    .dataframe tbody tr th:only-of-type {\n",
       "        vertical-align: middle;\n",
       "    }\n",
       "\n",
       "    .dataframe tbody tr th {\n",
       "        vertical-align: top;\n",
       "    }\n",
       "\n",
       "    .dataframe thead th {\n",
       "        text-align: right;\n",
       "    }\n",
       "</style>\n",
       "<table border=\"1\" class=\"dataframe\">\n",
       "  <thead>\n",
       "    <tr style=\"text-align: right;\">\n",
       "      <th></th>\n",
       "      <th>film_date</th>\n",
       "      <th>film_day</th>\n",
       "      <th>film_month</th>\n",
       "      <th>film_year</th>\n",
       "      <th>published_date</th>\n",
       "      <th>published_day</th>\n",
       "      <th>published_month</th>\n",
       "      <th>published_year</th>\n",
       "    </tr>\n",
       "  </thead>\n",
       "  <tbody>\n",
       "    <tr>\n",
       "      <th>0</th>\n",
       "      <td>25-02-2006</td>\n",
       "      <td>25</td>\n",
       "      <td>2</td>\n",
       "      <td>2006</td>\n",
       "      <td>27-06-2006</td>\n",
       "      <td>27</td>\n",
       "      <td>6</td>\n",
       "      <td>2006</td>\n",
       "    </tr>\n",
       "    <tr>\n",
       "      <th>1</th>\n",
       "      <td>25-02-2006</td>\n",
       "      <td>25</td>\n",
       "      <td>2</td>\n",
       "      <td>2006</td>\n",
       "      <td>27-06-2006</td>\n",
       "      <td>27</td>\n",
       "      <td>6</td>\n",
       "      <td>2006</td>\n",
       "    </tr>\n",
       "    <tr>\n",
       "      <th>2</th>\n",
       "      <td>24-02-2006</td>\n",
       "      <td>24</td>\n",
       "      <td>2</td>\n",
       "      <td>2006</td>\n",
       "      <td>27-06-2006</td>\n",
       "      <td>27</td>\n",
       "      <td>6</td>\n",
       "      <td>2006</td>\n",
       "    </tr>\n",
       "    <tr>\n",
       "      <th>3</th>\n",
       "      <td>26-02-2006</td>\n",
       "      <td>26</td>\n",
       "      <td>2</td>\n",
       "      <td>2006</td>\n",
       "      <td>27-06-2006</td>\n",
       "      <td>27</td>\n",
       "      <td>6</td>\n",
       "      <td>2006</td>\n",
       "    </tr>\n",
       "    <tr>\n",
       "      <th>4</th>\n",
       "      <td>22-02-2006</td>\n",
       "      <td>22</td>\n",
       "      <td>2</td>\n",
       "      <td>2006</td>\n",
       "      <td>27-06-2006</td>\n",
       "      <td>27</td>\n",
       "      <td>6</td>\n",
       "      <td>2006</td>\n",
       "    </tr>\n",
       "  </tbody>\n",
       "</table>\n",
       "</div>"
      ],
      "text/plain": [
       "    film_date  film_day  film_month  film_year published_date  published_day  \\\n",
       "0  25-02-2006        25           2       2006     27-06-2006             27   \n",
       "1  25-02-2006        25           2       2006     27-06-2006             27   \n",
       "2  24-02-2006        24           2       2006     27-06-2006             27   \n",
       "3  26-02-2006        26           2       2006     27-06-2006             27   \n",
       "4  22-02-2006        22           2       2006     27-06-2006             27   \n",
       "\n",
       "   published_month  published_year  \n",
       "0                6            2006  \n",
       "1                6            2006  \n",
       "2                6            2006  \n",
       "3                6            2006  \n",
       "4                6            2006  "
      ]
     },
     "execution_count": 9,
     "metadata": {},
     "output_type": "execute_result"
    }
   ],
   "source": [
    "data['film_year'] = data['film_date'].str[6:].astype(np.int64)\n",
    "data['film_month'] = data['film_date'].str[3:].str[:2].astype(np.int64)\n",
    "data['film_day'] = data['film_date'].str[:2].astype(np.int64)\n",
    "data['published_year'] = data['published_date'].str[6:].astype(np.int64)\n",
    "data['published_month'] = data['published_date'].str[3:].str[:2].astype(np.int64)\n",
    "data['published_day'] = data['published_date'].str[:2].astype(np.int64)\n",
    "\n",
    "data[['film_date','film_day', 'film_month', 'film_year', \n",
    "      'published_date', 'published_day', 'published_month','published_year']].head()"
   ]
  },
  {
   "cell_type": "markdown",
   "metadata": {},
   "source": [
    "## Ненужни колони\n",
    "\n",
    "Също така може да забележим, че **name** колоната = **main_speaker** + **title**, тоест не носи допълнителна информация и за това просто ще я махна."
   ]
  },
  {
   "cell_type": "code",
   "execution_count": 10,
   "metadata": {},
   "outputs": [
    {
     "data": {
      "text/html": [
       "<div>\n",
       "<style scoped>\n",
       "    .dataframe tbody tr th:only-of-type {\n",
       "        vertical-align: middle;\n",
       "    }\n",
       "\n",
       "    .dataframe tbody tr th {\n",
       "        vertical-align: top;\n",
       "    }\n",
       "\n",
       "    .dataframe thead th {\n",
       "        text-align: right;\n",
       "    }\n",
       "</style>\n",
       "<table border=\"1\" class=\"dataframe\">\n",
       "  <thead>\n",
       "    <tr style=\"text-align: right;\">\n",
       "      <th></th>\n",
       "      <th>name</th>\n",
       "      <th>main_speaker</th>\n",
       "      <th>title</th>\n",
       "    </tr>\n",
       "  </thead>\n",
       "  <tbody>\n",
       "    <tr>\n",
       "      <th>0</th>\n",
       "      <td>Ken Robinson: Do schools kill creativity?</td>\n",
       "      <td>Ken Robinson</td>\n",
       "      <td>Do schools kill creativity?</td>\n",
       "    </tr>\n",
       "    <tr>\n",
       "      <th>1</th>\n",
       "      <td>Al Gore: Averting the climate crisis</td>\n",
       "      <td>Al Gore</td>\n",
       "      <td>Averting the climate crisis</td>\n",
       "    </tr>\n",
       "    <tr>\n",
       "      <th>2</th>\n",
       "      <td>David Pogue: Simplicity sells</td>\n",
       "      <td>David Pogue</td>\n",
       "      <td>Simplicity sells</td>\n",
       "    </tr>\n",
       "    <tr>\n",
       "      <th>3</th>\n",
       "      <td>Majora Carter: Greening the ghetto</td>\n",
       "      <td>Majora Carter</td>\n",
       "      <td>Greening the ghetto</td>\n",
       "    </tr>\n",
       "    <tr>\n",
       "      <th>4</th>\n",
       "      <td>Hans Rosling: The best stats you've ever seen</td>\n",
       "      <td>Hans Rosling</td>\n",
       "      <td>The best stats you've ever seen</td>\n",
       "    </tr>\n",
       "  </tbody>\n",
       "</table>\n",
       "</div>"
      ],
      "text/plain": [
       "                                            name   main_speaker  \\\n",
       "0      Ken Robinson: Do schools kill creativity?   Ken Robinson   \n",
       "1           Al Gore: Averting the climate crisis        Al Gore   \n",
       "2                  David Pogue: Simplicity sells    David Pogue   \n",
       "3             Majora Carter: Greening the ghetto  Majora Carter   \n",
       "4  Hans Rosling: The best stats you've ever seen   Hans Rosling   \n",
       "\n",
       "                             title  \n",
       "0      Do schools kill creativity?  \n",
       "1      Averting the climate crisis  \n",
       "2                 Simplicity sells  \n",
       "3              Greening the ghetto  \n",
       "4  The best stats you've ever seen  "
      ]
     },
     "execution_count": 10,
     "metadata": {},
     "output_type": "execute_result"
    }
   ],
   "source": [
    "data[['name', 'main_speaker','title']].head()"
   ]
  },
  {
   "cell_type": "code",
   "execution_count": 11,
   "metadata": {},
   "outputs": [],
   "source": [
    "data = data.drop(['name'], axis=1)"
   ]
  },
  {
   "cell_type": "markdown",
   "metadata": {},
   "source": [
    "## Null values\n",
    "\n",
    "Нека проверим дали има *null* стойности някъде в dataset-a."
   ]
  },
  {
   "cell_type": "code",
   "execution_count": 94,
   "metadata": {
    "scrolled": true
   },
   "outputs": [
    {
     "data": {
      "text/plain": [
       "comments              0\n",
       "description           0\n",
       "duration              0\n",
       "event                 0\n",
       "film_date             0\n",
       "languages             0\n",
       "main_speaker          0\n",
       "num_speaker           0\n",
       "published_date        0\n",
       "ratings               0\n",
       "related_talks         0\n",
       "tags                  0\n",
       "title                 0\n",
       "views                 0\n",
       "speaker_occupation    6\n",
       "dtype: int64"
      ]
     },
     "execution_count": 94,
     "metadata": {},
     "output_type": "execute_result"
    }
   ],
   "source": [
    "data.isnull().sum().sort_values()"
   ]
  },
  {
   "cell_type": "markdown",
   "metadata": {},
   "source": [
    "Според резултата имаме null стойности само в една колона и само на 6 места. Имаме 2550 наблюдения, така че спокойно можем да махнем тези редове без да се притесняваме, че ще изгубим голяма част от ценните си данни."
   ]
  },
  {
   "cell_type": "code",
   "execution_count": 12,
   "metadata": {},
   "outputs": [
    {
     "data": {
      "text/plain": [
       "(2544, 23)"
      ]
     },
     "execution_count": 12,
     "metadata": {},
     "output_type": "execute_result"
    }
   ],
   "source": [
    "data = data.dropna()\n",
    "data.shape"
   ]
  },
  {
   "cell_type": "markdown",
   "metadata": {},
   "source": [
    "## Брой говорители"
   ]
  },
  {
   "cell_type": "code",
   "execution_count": 98,
   "metadata": {},
   "outputs": [
    {
     "data": {
      "text/plain": [
       "1    2486\n",
       "2      49\n",
       "3       5\n",
       "4       3\n",
       "5       1\n",
       "Name: num_speaker, dtype: int64"
      ]
     },
     "execution_count": 98,
     "metadata": {},
     "output_type": "execute_result"
    }
   ],
   "source": [
    "data['num_speaker'].value_counts()"
   ]
  },
  {
   "cell_type": "markdown",
   "metadata": {},
   "source": [
    "Виждаме, че 2486 от останалите 2544 talk-a са проведени от 1 човек и общо 58 са били с повече от 1 говорител. Можем да  преобразуваме тази колона да съдържа информация единствено дали talk-a е проведен от 1 или повече говорители."
   ]
  },
  {
   "cell_type": "code",
   "execution_count": 99,
   "metadata": {},
   "outputs": [],
   "source": [
    "#data['single_speaker'] = (data.num_speaker == 1).astype(np.int64)\n",
    "#data = data.drop('num_speaker', axis=1)"
   ]
  },
  {
   "cell_type": "markdown",
   "metadata": {},
   "source": [
    "Това също доведе до намаляне на резултата на baseline модела, макар и с доста малко. Следователно броят на говорителите все пак носи информация на модела, за това няма да махам колоната."
   ]
  },
  {
   "cell_type": "markdown",
   "metadata": {},
   "source": [
    "## Ratings\n",
    "\n",
    "Колоната **ratings** представлява *json* обект, съдържащ рейтинга на talk-a според определени категории."
   ]
  },
  {
   "cell_type": "code",
   "execution_count": 101,
   "metadata": {},
   "outputs": [
    {
     "data": {
      "text/plain": [
       "0    [{'id': 7, 'name': 'Funny', 'count': 19645}, {...\n",
       "1    [{'id': 7, 'name': 'Funny', 'count': 544}, {'i...\n",
       "2    [{'id': 7, 'name': 'Funny', 'count': 964}, {'i...\n",
       "3    [{'id': 3, 'name': 'Courageous', 'count': 760}...\n",
       "4    [{'id': 9, 'name': 'Ingenious', 'count': 3202}...\n",
       "Name: ratings, dtype: object"
      ]
     },
     "execution_count": 101,
     "metadata": {},
     "output_type": "execute_result"
    }
   ],
   "source": [
    "data['ratings'].head()"
   ]
  },
  {
   "cell_type": "markdown",
   "metadata": {},
   "source": [
    "Обектите трябва да се преобразуват."
   ]
  },
  {
   "cell_type": "code",
   "execution_count": 13,
   "metadata": {
    "scrolled": true
   },
   "outputs": [
    {
     "data": {
      "text/html": [
       "<div>\n",
       "<style scoped>\n",
       "    .dataframe tbody tr th:only-of-type {\n",
       "        vertical-align: middle;\n",
       "    }\n",
       "\n",
       "    .dataframe tbody tr th {\n",
       "        vertical-align: top;\n",
       "    }\n",
       "\n",
       "    .dataframe thead th {\n",
       "        text-align: right;\n",
       "    }\n",
       "</style>\n",
       "<table border=\"1\" class=\"dataframe\">\n",
       "  <thead>\n",
       "    <tr style=\"text-align: right;\">\n",
       "      <th></th>\n",
       "      <th>name</th>\n",
       "      <th>count</th>\n",
       "    </tr>\n",
       "  </thead>\n",
       "  <tbody>\n",
       "    <tr>\n",
       "      <th>0</th>\n",
       "      <td>Funny</td>\n",
       "      <td>544</td>\n",
       "    </tr>\n",
       "    <tr>\n",
       "      <th>1</th>\n",
       "      <td>Courageous</td>\n",
       "      <td>139</td>\n",
       "    </tr>\n",
       "    <tr>\n",
       "      <th>2</th>\n",
       "      <td>Confusing</td>\n",
       "      <td>62</td>\n",
       "    </tr>\n",
       "    <tr>\n",
       "      <th>3</th>\n",
       "      <td>Beautiful</td>\n",
       "      <td>58</td>\n",
       "    </tr>\n",
       "    <tr>\n",
       "      <th>4</th>\n",
       "      <td>Unconvincing</td>\n",
       "      <td>258</td>\n",
       "    </tr>\n",
       "    <tr>\n",
       "      <th>5</th>\n",
       "      <td>Longwinded</td>\n",
       "      <td>113</td>\n",
       "    </tr>\n",
       "    <tr>\n",
       "      <th>6</th>\n",
       "      <td>Informative</td>\n",
       "      <td>443</td>\n",
       "    </tr>\n",
       "    <tr>\n",
       "      <th>7</th>\n",
       "      <td>Inspiring</td>\n",
       "      <td>413</td>\n",
       "    </tr>\n",
       "    <tr>\n",
       "      <th>8</th>\n",
       "      <td>Fascinating</td>\n",
       "      <td>132</td>\n",
       "    </tr>\n",
       "    <tr>\n",
       "      <th>9</th>\n",
       "      <td>Ingenious</td>\n",
       "      <td>56</td>\n",
       "    </tr>\n",
       "    <tr>\n",
       "      <th>10</th>\n",
       "      <td>Persuasive</td>\n",
       "      <td>268</td>\n",
       "    </tr>\n",
       "    <tr>\n",
       "      <th>11</th>\n",
       "      <td>Jaw-dropping</td>\n",
       "      <td>116</td>\n",
       "    </tr>\n",
       "    <tr>\n",
       "      <th>12</th>\n",
       "      <td>Obnoxious</td>\n",
       "      <td>131</td>\n",
       "    </tr>\n",
       "    <tr>\n",
       "      <th>13</th>\n",
       "      <td>OK</td>\n",
       "      <td>203</td>\n",
       "    </tr>\n",
       "  </tbody>\n",
       "</table>\n",
       "</div>"
      ],
      "text/plain": [
       "            name  count\n",
       "0          Funny    544\n",
       "1     Courageous    139\n",
       "2      Confusing     62\n",
       "3      Beautiful     58\n",
       "4   Unconvincing    258\n",
       "5     Longwinded    113\n",
       "6    Informative    443\n",
       "7      Inspiring    413\n",
       "8    Fascinating    132\n",
       "9      Ingenious     56\n",
       "10    Persuasive    268\n",
       "11  Jaw-dropping    116\n",
       "12     Obnoxious    131\n",
       "13            OK    203"
      ]
     },
     "execution_count": 13,
     "metadata": {},
     "output_type": "execute_result"
    }
   ],
   "source": [
    "data['ratings'] = data['ratings'].str.replace(\"'\",'\"')\n",
    "pd.read_json(data['ratings'].iloc[1])[['name','count']]"
   ]
  },
  {
   "cell_type": "markdown",
   "metadata": {},
   "source": [
    "Можем да видим, че всеки talk е оценен спрямо следните 14 категории - **Funny, Courageous, Confusing, Beautiful, Unconvincing, Longwinded,\tInformative, Inspiring, Fascinating, Ingenious, Persuasive, Jaw-dropping, Obnoxious, OK**.\n",
    "\n",
    "От тях можем да определим като позитивни следните 9 - **Funny, Courageous, Beautiful, Informative, Inspiring, Fascinating, Ingenious, Persuasive, Jaw-dropping**, като негативни тези 4 - **Confusing, Unconvincing, Longwinded, Obnoxious**, и като неутрална само 1 - **OK**.\n",
    "\n",
    "Имаме няколко варианта:\n",
    "1. Може да добавим 1 колона, която държи само дали има повече позитивни рейтинги от негативните.\n",
    "2. Можем да направим 3 колони, в които да държим процента на позитивни, негативни и неутрални рейтинги спрямо броя на всички.\n",
    "3. Може да добавим 14 колони, в които да държим процента на всяка една от категориите на рейтингите.\n",
    "\n",
    "За момента като среден вариант бих избрала №2.\n"
   ]
  },
  {
   "cell_type": "code",
   "execution_count": 14,
   "metadata": {},
   "outputs": [
    {
     "data": {
      "text/html": [
       "<div>\n",
       "<style scoped>\n",
       "    .dataframe tbody tr th:only-of-type {\n",
       "        vertical-align: middle;\n",
       "    }\n",
       "\n",
       "    .dataframe tbody tr th {\n",
       "        vertical-align: top;\n",
       "    }\n",
       "\n",
       "    .dataframe thead th {\n",
       "        text-align: right;\n",
       "    }\n",
       "</style>\n",
       "<table border=\"1\" class=\"dataframe\">\n",
       "  <thead>\n",
       "    <tr style=\"text-align: right;\">\n",
       "      <th></th>\n",
       "      <th>comments</th>\n",
       "      <th>description</th>\n",
       "      <th>duration</th>\n",
       "      <th>event</th>\n",
       "      <th>film_date</th>\n",
       "      <th>languages</th>\n",
       "      <th>main_speaker</th>\n",
       "      <th>num_speaker</th>\n",
       "      <th>published_date</th>\n",
       "      <th>ratings</th>\n",
       "      <th>...</th>\n",
       "      <th>discussion_rate</th>\n",
       "      <th>film_year</th>\n",
       "      <th>film_month</th>\n",
       "      <th>film_day</th>\n",
       "      <th>published_year</th>\n",
       "      <th>published_month</th>\n",
       "      <th>published_day</th>\n",
       "      <th>positive_rating_percent</th>\n",
       "      <th>negative_rating_percent</th>\n",
       "      <th>neutral_rating_percent</th>\n",
       "    </tr>\n",
       "  </thead>\n",
       "  <tbody>\n",
       "    <tr>\n",
       "      <th>0</th>\n",
       "      <td>4553</td>\n",
       "      <td>Sir Ken Robinson makes an entertaining and pro...</td>\n",
       "      <td>1164</td>\n",
       "      <td>TED2006</td>\n",
       "      <td>25-02-2006</td>\n",
       "      <td>60</td>\n",
       "      <td>Ken Robinson</td>\n",
       "      <td>1</td>\n",
       "      <td>27-06-2006</td>\n",
       "      <td>[{\"id\": 7, \"name\": \"Funny\", \"count\": 19645}, {...</td>\n",
       "      <td>...</td>\n",
       "      <td>0.000096</td>\n",
       "      <td>2006</td>\n",
       "      <td>2</td>\n",
       "      <td>25</td>\n",
       "      <td>2006</td>\n",
       "      <td>6</td>\n",
       "      <td>27</td>\n",
       "      <td>97.536494</td>\n",
       "      <td>1.212573</td>\n",
       "      <td>1.250932</td>\n",
       "    </tr>\n",
       "    <tr>\n",
       "      <th>1</th>\n",
       "      <td>265</td>\n",
       "      <td>With the same humor and humanity he exuded in ...</td>\n",
       "      <td>977</td>\n",
       "      <td>TED2006</td>\n",
       "      <td>25-02-2006</td>\n",
       "      <td>43</td>\n",
       "      <td>Al Gore</td>\n",
       "      <td>1</td>\n",
       "      <td>27-06-2006</td>\n",
       "      <td>[{\"id\": 7, \"name\": \"Funny\", \"count\": 544}, {\"i...</td>\n",
       "      <td>...</td>\n",
       "      <td>0.000083</td>\n",
       "      <td>2006</td>\n",
       "      <td>2</td>\n",
       "      <td>25</td>\n",
       "      <td>2006</td>\n",
       "      <td>6</td>\n",
       "      <td>27</td>\n",
       "      <td>73.876022</td>\n",
       "      <td>19.209809</td>\n",
       "      <td>6.914169</td>\n",
       "    </tr>\n",
       "    <tr>\n",
       "      <th>2</th>\n",
       "      <td>124</td>\n",
       "      <td>New York Times columnist David Pogue takes aim...</td>\n",
       "      <td>1286</td>\n",
       "      <td>TED2006</td>\n",
       "      <td>24-02-2006</td>\n",
       "      <td>26</td>\n",
       "      <td>David Pogue</td>\n",
       "      <td>1</td>\n",
       "      <td>27-06-2006</td>\n",
       "      <td>[{\"id\": 7, \"name\": \"Funny\", \"count\": 964}, {\"i...</td>\n",
       "      <td>...</td>\n",
       "      <td>0.000076</td>\n",
       "      <td>2006</td>\n",
       "      <td>2</td>\n",
       "      <td>24</td>\n",
       "      <td>2006</td>\n",
       "      <td>6</td>\n",
       "      <td>27</td>\n",
       "      <td>82.400850</td>\n",
       "      <td>12.429178</td>\n",
       "      <td>5.169972</td>\n",
       "    </tr>\n",
       "    <tr>\n",
       "      <th>3</th>\n",
       "      <td>200</td>\n",
       "      <td>In an emotionally charged talk, MacArthur-winn...</td>\n",
       "      <td>1116</td>\n",
       "      <td>TED2006</td>\n",
       "      <td>26-02-2006</td>\n",
       "      <td>35</td>\n",
       "      <td>Majora Carter</td>\n",
       "      <td>1</td>\n",
       "      <td>27-06-2006</td>\n",
       "      <td>[{\"id\": 3, \"name\": \"Courageous\", \"count\": 760}...</td>\n",
       "      <td>...</td>\n",
       "      <td>0.000118</td>\n",
       "      <td>2006</td>\n",
       "      <td>2</td>\n",
       "      <td>26</td>\n",
       "      <td>2006</td>\n",
       "      <td>6</td>\n",
       "      <td>27</td>\n",
       "      <td>93.535408</td>\n",
       "      <td>4.184549</td>\n",
       "      <td>2.280043</td>\n",
       "    </tr>\n",
       "    <tr>\n",
       "      <th>4</th>\n",
       "      <td>593</td>\n",
       "      <td>You've never seen data presented like this. Wi...</td>\n",
       "      <td>1190</td>\n",
       "      <td>TED2006</td>\n",
       "      <td>22-02-2006</td>\n",
       "      <td>48</td>\n",
       "      <td>Hans Rosling</td>\n",
       "      <td>1</td>\n",
       "      <td>27-06-2006</td>\n",
       "      <td>[{\"id\": 9, \"name\": \"Ingenious\", \"count\": 3202}...</td>\n",
       "      <td>...</td>\n",
       "      <td>0.000049</td>\n",
       "      <td>2006</td>\n",
       "      <td>2</td>\n",
       "      <td>22</td>\n",
       "      <td>2006</td>\n",
       "      <td>6</td>\n",
       "      <td>27</td>\n",
       "      <td>97.822014</td>\n",
       "      <td>1.209992</td>\n",
       "      <td>0.967994</td>\n",
       "    </tr>\n",
       "  </tbody>\n",
       "</table>\n",
       "<p>5 rows × 26 columns</p>\n",
       "</div>"
      ],
      "text/plain": [
       "   comments                                        description  duration  \\\n",
       "0      4553  Sir Ken Robinson makes an entertaining and pro...      1164   \n",
       "1       265  With the same humor and humanity he exuded in ...       977   \n",
       "2       124  New York Times columnist David Pogue takes aim...      1286   \n",
       "3       200  In an emotionally charged talk, MacArthur-winn...      1116   \n",
       "4       593  You've never seen data presented like this. Wi...      1190   \n",
       "\n",
       "     event   film_date  languages   main_speaker  num_speaker published_date  \\\n",
       "0  TED2006  25-02-2006         60   Ken Robinson            1     27-06-2006   \n",
       "1  TED2006  25-02-2006         43        Al Gore            1     27-06-2006   \n",
       "2  TED2006  24-02-2006         26    David Pogue            1     27-06-2006   \n",
       "3  TED2006  26-02-2006         35  Majora Carter            1     27-06-2006   \n",
       "4  TED2006  22-02-2006         48   Hans Rosling            1     27-06-2006   \n",
       "\n",
       "                                             ratings           ...            \\\n",
       "0  [{\"id\": 7, \"name\": \"Funny\", \"count\": 19645}, {...           ...             \n",
       "1  [{\"id\": 7, \"name\": \"Funny\", \"count\": 544}, {\"i...           ...             \n",
       "2  [{\"id\": 7, \"name\": \"Funny\", \"count\": 964}, {\"i...           ...             \n",
       "3  [{\"id\": 3, \"name\": \"Courageous\", \"count\": 760}...           ...             \n",
       "4  [{\"id\": 9, \"name\": \"Ingenious\", \"count\": 3202}...           ...             \n",
       "\n",
       "  discussion_rate film_year film_month film_day published_year  \\\n",
       "0        0.000096      2006          2       25           2006   \n",
       "1        0.000083      2006          2       25           2006   \n",
       "2        0.000076      2006          2       24           2006   \n",
       "3        0.000118      2006          2       26           2006   \n",
       "4        0.000049      2006          2       22           2006   \n",
       "\n",
       "   published_month  published_day  positive_rating_percent  \\\n",
       "0                6             27                97.536494   \n",
       "1                6             27                73.876022   \n",
       "2                6             27                82.400850   \n",
       "3                6             27                93.535408   \n",
       "4                6             27                97.822014   \n",
       "\n",
       "   negative_rating_percent  neutral_rating_percent  \n",
       "0                 1.212573                1.250932  \n",
       "1                19.209809                6.914169  \n",
       "2                12.429178                5.169972  \n",
       "3                 4.184549                2.280043  \n",
       "4                 1.209992                0.967994  \n",
       "\n",
       "[5 rows x 26 columns]"
      ]
     },
     "execution_count": 14,
     "metadata": {},
     "output_type": "execute_result"
    }
   ],
   "source": [
    "import warnings\n",
    "warnings.filterwarnings(\"ignore\")  \n",
    "\n",
    "# създаване на новите колони\n",
    "data['positive_rating_percent'] = 0.0\n",
    "data['negative_rating_percent'] = 0.0\n",
    "data['neutral_rating_percent'] = 0.0\n",
    "\n",
    "positive_types = ['Funny', 'Beautiful', 'Courageous', 'Informative', 'Inspiring', 'Fascinating', 'Ingenious', 'Persuasive', 'Jaw-dropping']\n",
    "negative_types = ['Confusing', 'Unconvincing', 'Longwinded', 'Obnoxious']\n",
    "\n",
    "for i in range(2543):\n",
    "    row = pd.read_json(data['ratings'].iloc[i])\n",
    "    ratings_count = row['count'].sum() # намиране на броя на всички рейтинги\n",
    "    \n",
    "    positive_count = 0\n",
    "    for rating_type in positive_types:\n",
    "        positive_count += row[row['name'] == rating_type]['count'].item() # намиране на броя на всички позитивни рейтинги\n",
    "    \n",
    "    # намиране на процента на всички позитивни рейтинги\n",
    "    positive_percent = positive_count * 100 / ratings_count\n",
    "    \n",
    "    negative_count = 0\n",
    "    for rating_type in negative_types:\n",
    "        negative_count += row[row['name'] == rating_type]['count'].item() # намиране на броя на всички негативни рейтинги\n",
    "\n",
    "    # намиране на процента на всички негативни рейтинги\n",
    "    negative_percent = negative_count * 100 / ratings_count\n",
    "        \n",
    "    ok_count = row[row['name'] == 'OK']['count'].item() # намиране на броя на всички неутрални рейтинги\n",
    "    \n",
    "    # намиране на процента на всички неутрални рейтинги\n",
    "    neutral_percent = ok_count * 100 / ratings_count\n",
    "    \n",
    "    data['positive_rating_percent'][i] = positive_percent\n",
    "    data['negative_rating_percent'][i] = negative_percent\n",
    "    data['neutral_rating_percent'][i] = neutral_percent\n",
    "    \n",
    "data.head()"
   ]
  },
  {
   "cell_type": "markdown",
   "metadata": {},
   "source": [
    "Възможно е някой клип да няма някой тип рейтинг все още(например ако е качен скоро). За това може би е по-удачно на клиповете с под 100 рейтинга да сложим средното и за 3те вида."
   ]
  },
  {
   "cell_type": "code",
   "execution_count": 16,
   "metadata": {},
   "outputs": [],
   "source": [
    "for i in range(2543):\n",
    "    row = pd.read_json(data['ratings'].iloc[i])\n",
    "    ratings_count = row['count'].sum()\n",
    "    if(ratings_count < 100):\n",
    "        data['positive_rating_percent'][i] = data['positive_rating_percent'].mean()\n",
    "        data['negative_rating_percent'][i] =  data['negative_rating_percent'].mean()\n",
    "        data['neutral_rating_percent'][i] = data['neutral_rating_percent'].mean()"
   ]
  },
  {
   "cell_type": "markdown",
   "metadata": {},
   "source": [
    "Нека видим каква е корелациятя между видовете *рейтинги* и *броя гледания*."
   ]
  },
  {
   "cell_type": "code",
   "execution_count": 17,
   "metadata": {},
   "outputs": [
    {
     "data": {
      "image/png": "[encoded data removed]",
      "text/plain": [
       "<Figure size 720x576 with 2 Axes>"
      ]
     },
     "metadata": {
      "needs_background": "light"
     },
     "output_type": "display_data"
    }
   ],
   "source": [
    "ratings = ['positive_rating_percent','negative_rating_percent','neutral_rating_percent', 'views']\n",
    "\n",
    "plt.figure(figsize=(10,8))\n",
    "sns.heatmap(data[ratings].corr(), annot=True, cmap='RdBu');"
   ]
  },
  {
   "cell_type": "markdown",
   "metadata": {},
   "source": [
    "Хммм.. оказва се, че и трите вида рейтинги имат отрицателна корелация спрямо гледанията. Неутралните и негативните гледания имат доста висока корелация, тоест може би преценката ми, че **OK** е неутрален рейтинг е грешна и трябва да слея колоните."
   ]
  },
  {
   "cell_type": "code",
   "execution_count": 18,
   "metadata": {},
   "outputs": [],
   "source": [
    "data['negative_rating_percent'] = data['negative_rating_percent'] + data['neutral_rating_percent']\n",
    "data = data.drop('neutral_rating_percent', axis = 1)"
   ]
  },
  {
   "cell_type": "markdown",
   "metadata": {},
   "source": [
    "## Baseline model\n",
    "\n",
    "Нека видим какъв модел бихме могли да направим на оснoвата на числовите ни данни до момента и дали горе долу можем да го използваме за отправна точка. Така наречения *baseline* модел."
   ]
  },
  {
   "cell_type": "code",
   "execution_count": 19,
   "metadata": {},
   "outputs": [
    {
     "data": {
      "text/html": [
       "<div>\n",
       "<style scoped>\n",
       "    .dataframe tbody tr th:only-of-type {\n",
       "        vertical-align: middle;\n",
       "    }\n",
       "\n",
       "    .dataframe tbody tr th {\n",
       "        vertical-align: top;\n",
       "    }\n",
       "\n",
       "    .dataframe thead th {\n",
       "        text-align: right;\n",
       "    }\n",
       "</style>\n",
       "<table border=\"1\" class=\"dataframe\">\n",
       "  <thead>\n",
       "    <tr style=\"text-align: right;\">\n",
       "      <th></th>\n",
       "      <th>comments</th>\n",
       "      <th>duration</th>\n",
       "      <th>languages</th>\n",
       "      <th>num_speaker</th>\n",
       "      <th>views</th>\n",
       "      <th>discussion_rate</th>\n",
       "      <th>film_year</th>\n",
       "      <th>film_month</th>\n",
       "      <th>film_day</th>\n",
       "      <th>published_year</th>\n",
       "      <th>published_month</th>\n",
       "      <th>published_day</th>\n",
       "      <th>positive_rating_percent</th>\n",
       "      <th>negative_rating_percent</th>\n",
       "    </tr>\n",
       "  </thead>\n",
       "  <tbody>\n",
       "    <tr>\n",
       "      <th>count</th>\n",
       "      <td>2544.000000</td>\n",
       "      <td>2544.000000</td>\n",
       "      <td>2544.000000</td>\n",
       "      <td>2544.000000</td>\n",
       "      <td>2.544000e+03</td>\n",
       "      <td>2544.000000</td>\n",
       "      <td>2544.000000</td>\n",
       "      <td>2544.000000</td>\n",
       "      <td>2544.000000</td>\n",
       "      <td>2544.000000</td>\n",
       "      <td>2544.000000</td>\n",
       "      <td>2544.000000</td>\n",
       "      <td>2544.000000</td>\n",
       "      <td>2544.000000</td>\n",
       "    </tr>\n",
       "    <tr>\n",
       "      <th>mean</th>\n",
       "      <td>191.706761</td>\n",
       "      <td>827.316431</td>\n",
       "      <td>27.319969</td>\n",
       "      <td>1.028302</td>\n",
       "      <td>1.699779e+06</td>\n",
       "      <td>0.000147</td>\n",
       "      <td>2011.463443</td>\n",
       "      <td>5.657233</td>\n",
       "      <td>14.417453</td>\n",
       "      <td>2012.090409</td>\n",
       "      <td>6.310535</td>\n",
       "      <td>15.430818</td>\n",
       "      <td>37.378588</td>\n",
       "      <td>12.267823</td>\n",
       "    </tr>\n",
       "    <tr>\n",
       "      <th>std</th>\n",
       "      <td>282.613719</td>\n",
       "      <td>373.828955</td>\n",
       "      <td>9.563529</td>\n",
       "      <td>0.207945</td>\n",
       "      <td>2.501043e+06</td>\n",
       "      <td>0.000160</td>\n",
       "      <td>3.731375</td>\n",
       "      <td>3.396646</td>\n",
       "      <td>8.930295</td>\n",
       "      <td>3.013876</td>\n",
       "      <td>3.366152</td>\n",
       "      <td>8.638678</td>\n",
       "      <td>43.086269</td>\n",
       "      <td>10.281737</td>\n",
       "    </tr>\n",
       "    <tr>\n",
       "      <th>min</th>\n",
       "      <td>2.000000</td>\n",
       "      <td>135.000000</td>\n",
       "      <td>0.000000</td>\n",
       "      <td>1.000000</td>\n",
       "      <td>5.044300e+04</td>\n",
       "      <td>0.000003</td>\n",
       "      <td>1972.000000</td>\n",
       "      <td>1.000000</td>\n",
       "      <td>1.000000</td>\n",
       "      <td>2006.000000</td>\n",
       "      <td>1.000000</td>\n",
       "      <td>1.000000</td>\n",
       "      <td>0.000000</td>\n",
       "      <td>0.000000</td>\n",
       "    </tr>\n",
       "    <tr>\n",
       "      <th>25%</th>\n",
       "      <td>63.000000</td>\n",
       "      <td>578.750000</td>\n",
       "      <td>23.000000</td>\n",
       "      <td>1.000000</td>\n",
       "      <td>7.565802e+05</td>\n",
       "      <td>0.000055</td>\n",
       "      <td>2009.000000</td>\n",
       "      <td>3.000000</td>\n",
       "      <td>6.000000</td>\n",
       "      <td>2010.000000</td>\n",
       "      <td>3.000000</td>\n",
       "      <td>8.000000</td>\n",
       "      <td>0.000000</td>\n",
       "      <td>5.110347</td>\n",
       "    </tr>\n",
       "    <tr>\n",
       "      <th>50%</th>\n",
       "      <td>118.000000</td>\n",
       "      <td>848.500000</td>\n",
       "      <td>28.000000</td>\n",
       "      <td>1.000000</td>\n",
       "      <td>1.123870e+06</td>\n",
       "      <td>0.000103</td>\n",
       "      <td>2012.000000</td>\n",
       "      <td>5.000000</td>\n",
       "      <td>14.000000</td>\n",
       "      <td>2012.000000</td>\n",
       "      <td>6.000000</td>\n",
       "      <td>15.000000</td>\n",
       "      <td>0.000000</td>\n",
       "      <td>9.115379</td>\n",
       "    </tr>\n",
       "    <tr>\n",
       "      <th>75%</th>\n",
       "      <td>222.000000</td>\n",
       "      <td>1047.000000</td>\n",
       "      <td>33.000000</td>\n",
       "      <td>1.000000</td>\n",
       "      <td>1.702149e+06</td>\n",
       "      <td>0.000177</td>\n",
       "      <td>2014.000000</td>\n",
       "      <td>9.000000</td>\n",
       "      <td>23.000000</td>\n",
       "      <td>2015.000000</td>\n",
       "      <td>9.000000</td>\n",
       "      <td>23.000000</td>\n",
       "      <td>87.092594</td>\n",
       "      <td>16.187371</td>\n",
       "    </tr>\n",
       "    <tr>\n",
       "      <th>max</th>\n",
       "      <td>6404.000000</td>\n",
       "      <td>5256.000000</td>\n",
       "      <td>72.000000</td>\n",
       "      <td>5.000000</td>\n",
       "      <td>4.722711e+07</td>\n",
       "      <td>0.002220</td>\n",
       "      <td>2017.000000</td>\n",
       "      <td>12.000000</td>\n",
       "      <td>31.000000</td>\n",
       "      <td>2017.000000</td>\n",
       "      <td>12.000000</td>\n",
       "      <td>31.000000</td>\n",
       "      <td>98.995892</td>\n",
       "      <td>81.106113</td>\n",
       "    </tr>\n",
       "  </tbody>\n",
       "</table>\n",
       "</div>"
      ],
      "text/plain": [
       "          comments     duration    languages  num_speaker         views  \\\n",
       "count  2544.000000  2544.000000  2544.000000  2544.000000  2.544000e+03   \n",
       "mean    191.706761   827.316431    27.319969     1.028302  1.699779e+06   \n",
       "std     282.613719   373.828955     9.563529     0.207945  2.501043e+06   \n",
       "min       2.000000   135.000000     0.000000     1.000000  5.044300e+04   \n",
       "25%      63.000000   578.750000    23.000000     1.000000  7.565802e+05   \n",
       "50%     118.000000   848.500000    28.000000     1.000000  1.123870e+06   \n",
       "75%     222.000000  1047.000000    33.000000     1.000000  1.702149e+06   \n",
       "max    6404.000000  5256.000000    72.000000     5.000000  4.722711e+07   \n",
       "\n",
       "       discussion_rate    film_year   film_month     film_day  published_year  \\\n",
       "count      2544.000000  2544.000000  2544.000000  2544.000000     2544.000000   \n",
       "mean          0.000147  2011.463443     5.657233    14.417453     2012.090409   \n",
       "std           0.000160     3.731375     3.396646     8.930295        3.013876   \n",
       "min           0.000003  1972.000000     1.000000     1.000000     2006.000000   \n",
       "25%           0.000055  2009.000000     3.000000     6.000000     2010.000000   \n",
       "50%           0.000103  2012.000000     5.000000    14.000000     2012.000000   \n",
       "75%           0.000177  2014.000000     9.000000    23.000000     2015.000000   \n",
       "max           0.002220  2017.000000    12.000000    31.000000     2017.000000   \n",
       "\n",
       "       published_month  published_day  positive_rating_percent  \\\n",
       "count      2544.000000    2544.000000              2544.000000   \n",
       "mean          6.310535      15.430818                37.378588   \n",
       "std           3.366152       8.638678                43.086269   \n",
       "min           1.000000       1.000000                 0.000000   \n",
       "25%           3.000000       8.000000                 0.000000   \n",
       "50%           6.000000      15.000000                 0.000000   \n",
       "75%           9.000000      23.000000                87.092594   \n",
       "max          12.000000      31.000000                98.995892   \n",
       "\n",
       "       negative_rating_percent  \n",
       "count              2544.000000  \n",
       "mean                 12.267823  \n",
       "std                  10.281737  \n",
       "min                   0.000000  \n",
       "25%                   5.110347  \n",
       "50%                   9.115379  \n",
       "75%                  16.187371  \n",
       "max                  81.106113  "
      ]
     },
     "execution_count": 19,
     "metadata": {},
     "output_type": "execute_result"
    }
   ],
   "source": [
    "data.describe()"
   ]
  },
  {
   "cell_type": "markdown",
   "metadata": {},
   "source": [
    "За момнета в тренирането на модел не бихме вкючили броя на коментари, защото това е нещо, което не бихме могли да знаем за един клип, преди той да бъде качен."
   ]
  },
  {
   "cell_type": "code",
   "execution_count": 50,
   "metadata": {},
   "outputs": [],
   "source": [
    "numeric_column_names = ['duration', 'languages', 'num_speaker', 'discussion_rate', 'film_year', 'film_month', 'film_day',\n",
    "       'published_year', 'published_month', 'published_day', 'positive_rating_percent', 'negative_rating_percent']"
   ]
  },
  {
   "cell_type": "code",
   "execution_count": 51,
   "metadata": {},
   "outputs": [],
   "source": [
    "from sklearn.model_selection import train_test_split\n",
    "\n",
    "train_no_views = data[numeric_column_names]\n",
    "train_views = data['views']\n",
    "\n",
    "x_train, x_test, y_train, y_test = train_test_split(train_no_views, \n",
    "                                                    train_views, \n",
    "                                                    test_size=0.3, \n",
    "                                                    random_state=4330)"
   ]
  },
  {
   "cell_type": "code",
   "execution_count": 52,
   "metadata": {},
   "outputs": [
    {
     "data": {
      "text/plain": [
       "LinearRegression(copy_X=True, fit_intercept=True, n_jobs=None,\n",
       "         normalize=False)"
      ]
     },
     "execution_count": 52,
     "metadata": {},
     "output_type": "execute_result"
    }
   ],
   "source": [
    "from sklearn.linear_model import LinearRegression\n",
    "\n",
    "regressor = LinearRegression()\n",
    "regressor.fit(x_train, y_train)"
   ]
  },
  {
   "cell_type": "markdown",
   "metadata": {},
   "source": [
    "Колко ли добър резултат имаме? Нека проверим."
   ]
  },
  {
   "cell_type": "code",
   "execution_count": 53,
   "metadata": {},
   "outputs": [
    {
     "name": "stdout",
     "output_type": "stream",
     "text": [
      "0.1935752705907816\n",
      "0.2073261196723506\n"
     ]
    }
   ],
   "source": [
    "print(regressor.score(x_train, y_train))\n",
    "print(regressor.score(x_test, y_test))"
   ]
  },
  {
   "cell_type": "markdown",
   "metadata": {},
   "source": [
    "Честно казано очаквах малко по-голямо число. Явно моделът доста underfit-ва. Нека приложим трансформацията с логаритъм и видим дали би имало подобрение."
   ]
  },
  {
   "cell_type": "code",
   "execution_count": 54,
   "metadata": {},
   "outputs": [
    {
     "name": "stdout",
     "output_type": "stream",
     "text": [
      "0.488052484109774\n",
      "0.43915522998710027\n"
     ]
    }
   ],
   "source": [
    "all_data_lr = LinearRegression().fit(x_train, pd.np.log10(y_train))\n",
    "print(all_data_lr.score(x_train, pd.np.log10(y_train)))\n",
    "print(all_data_lr.score(x_test, pd.np.log10(y_test)))"
   ]
  },
  {
   "cell_type": "markdown",
   "metadata": {},
   "source": [
    "Добре, все още доста нисък скор, но има подобрение. Нека видим на кои колони моделът ни придава най-голяма важност."
   ]
  },
  {
   "cell_type": "code",
   "execution_count": 55,
   "metadata": {},
   "outputs": [
    {
     "data": {
      "image/png": "[encoded data removed]",
      "text/plain": [
       "<Figure size 864x576 with 1 Axes>"
      ]
     },
     "metadata": {
      "needs_background": "light"
     },
     "output_type": "display_data"
    }
   ],
   "source": [
    "plt.figure(figsize=(12,8))\n",
    "barplot = sns.barplot(x=numeric_column_names, y=regressor.coef_, orient='vertical')\n",
    "plt.setp(barplot.get_xticklabels(), rotation=90); plt.grid(True);"
   ]
  },
  {
   "cell_type": "markdown",
   "metadata": {},
   "source": [
    "Моделът ни за сега, придава важност единствено на колоната *discussion_rate*."
   ]
  },
  {
   "cell_type": "markdown",
   "metadata": {},
   "source": [
    "Можем да се опитаме да променим съотношението на train/test данните от 70/30 на 90/10. Така може би моделът ще научи повече."
   ]
  },
  {
   "cell_type": "code",
   "execution_count": 56,
   "metadata": {},
   "outputs": [
    {
     "name": "stdout",
     "output_type": "stream",
     "text": [
      "0.4713600093025242\n",
      "0.5055367492527758\n"
     ]
    }
   ],
   "source": [
    "x_train, x_test, y_train, y_test = train_test_split(train_no_views, train_views, test_size=0.1, random_state=4330)\n",
    "\n",
    "new_data_lr = LinearRegression().fit(x_train, pd.np.log10(y_train))\n",
    "print(new_data_lr.score(x_train, pd.np.log10(y_train)))\n",
    "print(new_data_lr.score(x_test, pd.np.log10(y_test)))"
   ]
  },
  {
   "cell_type": "markdown",
   "metadata": {},
   "source": [
    "Нека видим съотношението между нашите предикшъни и реалните стойности на views."
   ]
  },
  {
   "cell_type": "code",
   "execution_count": 42,
   "metadata": {},
   "outputs": [
    {
     "data": {
      "image/png": "[encoded data removed]",
      "text/plain": [
       "<Figure size 432x288 with 1 Axes>"
      ]
     },
     "metadata": {
      "needs_background": "light"
     },
     "output_type": "display_data"
    }
   ],
   "source": [
    "predictions = new_data_lr.predict(x_test[numeric_column_names])\n",
    "plt.scatter(pd.np.log10(y_test), predictions)\n",
    "plt.xlabel('True Values')\n",
    "plt.ylabel('Predictions');"
   ]
  },
  {
   "cell_type": "markdown",
   "metadata": {},
   "source": [
    "## Свързани клипове\n",
    "\n",
    "Според описанието тази колона съдържа всички клипове, към които текущия е включен в списъка на препоръчани клипове. Логично е с колкото повече клипове е свързан, толкова повече гледания да има."
   ]
  },
  {
   "cell_type": "code",
   "execution_count": 116,
   "metadata": {},
   "outputs": [
    {
     "name": "stdout",
     "output_type": "stream",
     "text": [
      "[{'id': 865, 'hero': 'https://pe.tedcdn.com/images/ted/172559_800x600.jpg', 'speaker': 'Ken Robinson', 'title': 'Bring on the learning revolution!', 'duration': 1008, 'slug': 'sir_ken_robinson_bring_on_the_revolution', 'viewed_count': 7266103}, {'id': 1738, 'hero': 'https://pe.tedcdn.com/images/ted/de98b161ad1434910ff4b56c89de71af04b8b873_1600x1200.jpg', 'speaker': 'Ken Robinson', 'title': \"How to escape education's death valley\", 'duration': 1151, 'slug': 'ken_robinson_how_to_escape_education_s_death_valley', 'viewed_count': 6657572}, {'id': 2276, 'hero': 'https://pe.tedcdn.com/images/ted/3821f3728e0b755c7b9aea2e69cc093eca41abe1_2880x1620.jpg', 'speaker': 'Linda Cliatt-Wayman', 'title': 'How to fix a broken school? Lead fearlessly, love hard', 'duration': 1027, 'slug': 'linda_cliatt_wayman_how_to_fix_a_broken_school_lead_fearlessly_love_hard', 'viewed_count': 1617101}, {'id': 892, 'hero': 'https://pe.tedcdn.com/images/ted/e79958940573cc610ccb583619a54866c41ef303_2880x1620.jpg', 'speaker': 'Charles Leadbeater', 'title': 'Education innovation in the slums', 'duration': 1138, 'slug': 'charles_leadbeater_on_education', 'viewed_count': 772296}, {'id': 1232, 'hero': 'https://pe.tedcdn.com/images/ted/0e3e4e92d5ee8ae0e43962d447d3f790b31099b8_800x600.jpg', 'speaker': 'Geoff Mulgan', 'title': 'A short intro to the Studio School', 'duration': 376, 'slug': 'geoff_mulgan_a_short_intro_to_the_studio_school', 'viewed_count': 667971}, {'id': 2616, 'hero': 'https://pe.tedcdn.com/images/ted/71cde5a6fa6c717488fb55eff9eef939a9241761_2880x1620.jpg', 'speaker': 'Kandice Sumner', 'title': \"How America's public schools keep kids in poverty\", 'duration': 830, 'slug': 'kandice_sumner_how_america_s_public_schools_keep_kids_in_poverty', 'viewed_count': 1181333}]\n"
     ]
    }
   ],
   "source": [
    "print(data['related_talks'].iloc[0])"
   ]
  },
  {
   "cell_type": "markdown",
   "metadata": {},
   "source": [
    "Опитвайки се обаче да парсна колоната от json обекти, прибягвайки до онлайн json validator, най-накрая разбрах, че **в тази колона има невалидни json обекти** (в  title полето има двойни кавички вместо единични). За това след дълго чудене реших поне да проверя колко на брой свързани клипове има всеки клип. Използвам не много елегантния начин да преброя колко пътисе среща символа '{', който обозначава началото на нов обект."
   ]
  },
  {
   "cell_type": "code",
   "execution_count": 110,
   "metadata": {},
   "outputs": [
    {
     "data": {
      "text/plain": [
       "6    2544\n",
       "Name: related_talks_count, dtype: int64"
      ]
     },
     "execution_count": 110,
     "metadata": {},
     "output_type": "execute_result"
    }
   ],
   "source": [
    "for i in range(2543):\n",
    "    count = data['related_talks'].iloc[i].count('{')\n",
    "    data['related_talks_count'] = count\n",
    "    \n",
    "data['related_talks_count'].value_counts()"
   ]
  },
  {
   "cell_type": "markdown",
   "metadata": {},
   "source": [
    "Очудващо всички клипове имат по точно 6 свързани клипа. Тоест тази колона **не ни носи абсолютно никаква информация** и не ни е от полза."
   ]
  },
  {
   "cell_type": "markdown",
   "metadata": {},
   "source": [
    "## Брой езици и дължина на клипа\n",
    "\n",
    "Колоните languages и duration имат непрекъснати стойности, но въпреки това моделът за сега не им придава никаква важност. Нека разгледаме тяхната дистрибуция."
   ]
  },
  {
   "cell_type": "code",
   "execution_count": 58,
   "metadata": {},
   "outputs": [
    {
     "data": {
      "image/png": "[encoded data removed]",
      "text/plain": [
       "<Figure size 432x288 with 1 Axes>"
      ]
     },
     "metadata": {
      "needs_background": "light"
     },
     "output_type": "display_data"
    }
   ],
   "source": [
    "sns.distplot(data.languages);"
   ]
  },
  {
   "cell_type": "code",
   "execution_count": 59,
   "metadata": {},
   "outputs": [
    {
     "data": {
      "image/png": "[encoded data removed]",
      "text/plain": [
       "<Figure size 432x288 with 1 Axes>"
      ]
     },
     "metadata": {
      "needs_background": "light"
     },
     "output_type": "display_data"
    }
   ],
   "source": [
    "sns.distplot(data.duration);"
   ]
  },
  {
   "cell_type": "markdown",
   "metadata": {},
   "source": [
    "И в двата случая имаме неравномерно разпределение. Подход, който можем да приложим върху данните е **binning**. Тоест можем да ги разделим на интервали и да ги категоризираме по този начин. Нека видим информация за самите стойности."
   ]
  },
  {
   "cell_type": "code",
   "execution_count": 60,
   "metadata": {},
   "outputs": [
    {
     "data": {
      "text/plain": [
       "count    2544.000000\n",
       "mean       27.319969\n",
       "std         9.563529\n",
       "min         0.000000\n",
       "25%        23.000000\n",
       "50%        28.000000\n",
       "75%        33.000000\n",
       "max        72.000000\n",
       "Name: languages, dtype: float64"
      ]
     },
     "execution_count": 60,
     "metadata": {},
     "output_type": "execute_result"
    }
   ],
   "source": [
    "data['languages'].describe()"
   ]
  },
  {
   "cell_type": "code",
   "execution_count": 61,
   "metadata": {},
   "outputs": [
    {
     "data": {
      "text/plain": [
       "count    2544.000000\n",
       "mean      827.316431\n",
       "std       373.828955\n",
       "min       135.000000\n",
       "25%       578.750000\n",
       "50%       848.500000\n",
       "75%      1047.000000\n",
       "max      5256.000000\n",
       "Name: duration, dtype: float64"
      ]
     },
     "execution_count": 61,
     "metadata": {},
     "output_type": "execute_result"
    }
   ],
   "source": [
    "data['duration'].describe()"
   ]
  },
  {
   "cell_type": "markdown",
   "metadata": {},
   "source": [
    "Езиците са между 0 и 72, тоест можем да ги разпределим в 5 интервала по 15, а продължителността - между 135 и 5256, тук интервалите може да са 18 по 300(понеже времето е в секунди, ще разделим клиповете в интервали през 5 минути)."
   ]
  },
  {
   "cell_type": "code",
   "execution_count": 99,
   "metadata": {},
   "outputs": [],
   "source": [
    "languages_bins = [index for index in range(0, 80, 15)]\n",
    "languages_labels = [index for index in range(1,6)]\n",
    "data['languages_binned'] = pd.cut(data['languages'], bins=languages_bins, labels=languages_labels)\n",
    "\n",
    "duration_bins = [index for index in range(0, 5301, 300)]\n",
    "duration_labels = [index for index in range(1,18)]\n",
    "data['duration_binned'] = pd.cut(data['duration'], bins=duration_bins, labels=duration_labels)"
   ]
  },
  {
   "cell_type": "code",
   "execution_count": 100,
   "metadata": {},
   "outputs": [
    {
     "data": {
      "text/html": [
       "<div>\n",
       "<style scoped>\n",
       "    .dataframe tbody tr th:only-of-type {\n",
       "        vertical-align: middle;\n",
       "    }\n",
       "\n",
       "    .dataframe tbody tr th {\n",
       "        vertical-align: top;\n",
       "    }\n",
       "\n",
       "    .dataframe thead th {\n",
       "        text-align: right;\n",
       "    }\n",
       "</style>\n",
       "<table border=\"1\" class=\"dataframe\">\n",
       "  <thead>\n",
       "    <tr style=\"text-align: right;\">\n",
       "      <th></th>\n",
       "      <th>languages</th>\n",
       "      <th>languages_binned</th>\n",
       "      <th>duration</th>\n",
       "      <th>duration_binned</th>\n",
       "    </tr>\n",
       "  </thead>\n",
       "  <tbody>\n",
       "    <tr>\n",
       "      <th>0</th>\n",
       "      <td>60</td>\n",
       "      <td>4</td>\n",
       "      <td>1164</td>\n",
       "      <td>4</td>\n",
       "    </tr>\n",
       "    <tr>\n",
       "      <th>1</th>\n",
       "      <td>43</td>\n",
       "      <td>3</td>\n",
       "      <td>977</td>\n",
       "      <td>4</td>\n",
       "    </tr>\n",
       "    <tr>\n",
       "      <th>2</th>\n",
       "      <td>26</td>\n",
       "      <td>2</td>\n",
       "      <td>1286</td>\n",
       "      <td>5</td>\n",
       "    </tr>\n",
       "    <tr>\n",
       "      <th>3</th>\n",
       "      <td>35</td>\n",
       "      <td>3</td>\n",
       "      <td>1116</td>\n",
       "      <td>4</td>\n",
       "    </tr>\n",
       "    <tr>\n",
       "      <th>4</th>\n",
       "      <td>48</td>\n",
       "      <td>4</td>\n",
       "      <td>1190</td>\n",
       "      <td>4</td>\n",
       "    </tr>\n",
       "  </tbody>\n",
       "</table>\n",
       "</div>"
      ],
      "text/plain": [
       "   languages languages_binned  duration duration_binned\n",
       "0         60                4      1164               4\n",
       "1         43                3       977               4\n",
       "2         26                2      1286               5\n",
       "3         35                3      1116               4\n",
       "4         48                4      1190               4"
      ]
     },
     "execution_count": 100,
     "metadata": {},
     "output_type": "execute_result"
    }
   ],
   "source": [
    "data[['languages', 'languages_binned', 'duration', 'duration_binned']].head()"
   ]
  },
  {
   "cell_type": "markdown",
   "metadata": {},
   "source": [
    "## Втори опит\n",
    "\n",
    "Нека енкоднем новите данни и да пробваме пак."
   ]
  },
  {
   "cell_type": "code",
   "execution_count": 126,
   "metadata": {},
   "outputs": [],
   "source": [
    "from sklearn.preprocessing import OneHotEncoder\n",
    "from sklearn.preprocessing import LabelEncoder\n",
    "\n",
    "def encode_categorical(col):\n",
    "    label_encoder = LabelEncoder()\n",
    "    integer_encoded = label_encoder.fit_transform(data[col])\n",
    "\n",
    "    onehot_encoder = OneHotEncoder(sparse=False)\n",
    "    integer_encoded = integer_encoded.reshape(len(integer_encoded), 1)\n",
    "    onehot_encoded = onehot_encoder.fit_transform(integer_encoded)\n",
    "    \n",
    "    return pd.DataFrame(onehot_encoded)"
   ]
  },
  {
   "cell_type": "code",
   "execution_count": 142,
   "metadata": {},
   "outputs": [
    {
     "name": "stdout",
     "output_type": "stream",
     "text": [
      "0.5949194438137901\n",
      "0.5491198192210932\n"
     ]
    }
   ],
   "source": [
    "frames = [data[numeric_column_names], \n",
    "          encode_categorical('languages_binned'), \n",
    "          encode_categorical('duration_binned')]\n",
    "train_no_views = pd.np.concatenate(frames, axis = 1)\n",
    "train_views = data['views']\n",
    "\n",
    "x_train, x_test, y_train, y_test = train_test_split(train_no_views, train_views, test_size=0.1, random_state=4330)\n",
    "\n",
    "new_data_lr = LinearRegression().fit(x_train, pd.np.log10(y_train))\n",
    "print(new_data_lr.score(x_train, pd.np.log10(y_train)))\n",
    "print(new_data_lr.score(x_test, pd.np.log10(y_test)))"
   ]
  },
  {
   "cell_type": "markdown",
   "metadata": {},
   "source": [
    "Eдна идея се вдигна."
   ]
  },
  {
   "cell_type": "markdown",
   "metadata": {},
   "source": [
    "## Говорители\n",
    "\n",
    "Нека разгледаме и говорителите. Кой говорител е направил най-много talk-ове?"
   ]
  },
  {
   "cell_type": "code",
   "execution_count": 223,
   "metadata": {},
   "outputs": [
    {
     "data": {
      "text/plain": [
       "Hans Rosling                  9\n",
       "Juan Enriquez                 7\n",
       "Rives                         6\n",
       "                             ..\n",
       "Catherine Crump               1\n",
       "Nikolai Begg                  1\n",
       "Jane Fonda and Lily Tomlin    1\n",
       "Name: main_speaker, Length: 2156, dtype: int64"
      ]
     },
     "execution_count": 223,
     "metadata": {},
     "output_type": "execute_result"
    }
   ],
   "source": [
    "data['main_speaker'].value_counts()"
   ]
  },
  {
   "cell_type": "markdown",
   "metadata": {},
   "source": [
    "Има 2156 различни speaker-и, тоест едва ли колоната е подходяща за категоризация."
   ]
  }
 ],
 "metadata": {
  "kernelspec": {
   "display_name": "Python 3",
   "language": "python",
   "name": "python3"
  },
  "language_info": {
   "codemirror_mode": {
    "name": "ipython",
    "version": 3
   },
   "file_extension": ".py",
   "mimetype": "text/x-python",
   "name": "python",
   "nbconvert_exporter": "python",
   "pygments_lexer": "ipython3",
   "version": "3.6.6"
  }
 },
 "nbformat": 4,
 "nbformat_minor": 2
}
